{
 "cells": [
  {
   "cell_type": "code",
   "execution_count": 69,
   "metadata": {},
   "outputs": [],
   "source": [
    "%matplotlib inline\n",
    "import matplotlib.pyplot as plt\n",
    "\n",
    "import tensorflow as tf\n",
    "import numpy as np\n",
    "import pandas as pd\n",
    "\n",
    "import time\n",
    "from datetime import timedelta\n",
    "\n",
    "import math\n",
    "import os\n",
    "\n",
    "import scipy.misc\n",
    "from scipy.stats import itemfreq\n",
    "from random import sample\n",
    "import pickle\n",
    "\n",
    "from sklearn.metrics import confusion_matrix\n",
    "from sklearn.model_selection import train_test_split\n",
    "\n",
    "# Image manipulation\n",
    "import PIL.Image\n",
    "from IPython.display import display\n",
    "\n",
    "# Open a Zip File\n",
    "from zipfile import ZipFile\n",
    "from io import BytesIO"
   ]
  },
  {
   "cell_type": "code",
   "execution_count": 70,
   "metadata": {},
   "outputs": [],
   "source": [
    "import keras"
   ]
  },
  {
   "cell_type": "code",
   "execution_count": 109,
   "metadata": {},
   "outputs": [
    {
     "data": {
      "text/plain": [
       "10222"
      ]
     },
     "execution_count": 109,
     "metadata": {},
     "output_type": "execute_result"
    }
   ],
   "source": [
    "# We unzip the train and test zip file\n",
    "archive_train = ZipFile(\"./data/train.zip\", 'r')\n",
    "archive_test = ZipFile(\"./data/test.zip\", 'r')\n",
    "# This line shows the 5 first image name of the train database\n",
    "archive_train.namelist()[0:5]\n",
    "# This line shows the number of images in the train database, noted that we must remove the 1st value (column header)\n",
    "len(archive_train.namelist()[:]) - 1"
   ]
  },
  {
   "cell_type": "code",
   "execution_count": 110,
   "metadata": {},
   "outputs": [],
   "source": [
    "# This function help to create  a pickle file gathering all the image from a zip folder\n",
    "def DataBase_creator(archivezip, nwidth, nheight, save_name):\n",
    "    # We choose the archive (zip file) + the new width and height for all the image which will be reshaped\n",
    "    \n",
    "    # Start-time used for printing time-usage below.\n",
    "    start_time = time.time()\n",
    "    \n",
    "    # nwidth x nheight = number of features because images have nwidth x nheight pixels\n",
    "    s = (len(archivezip.namelist()[:])-1, nwidth, nheight,3)\n",
    "    allImage = np.zeros(s)\n",
    "    for i in range(1,len(archivezip.namelist()[:])):\n",
    "        filename = BytesIO(archivezip.read(archivezip.namelist()[i]))\n",
    "        image = PIL.Image.open(filename) # open colour image\n",
    "        image = image.resize((nwidth, nheight))\n",
    "        image = np.array(image)\n",
    "        image = np.clip(image/255.0, 0.0, 1.0) # 255 = max of the value of a pixel\n",
    "        allImage[i-1]=image\n",
    "    \n",
    "    # we save the newly created data base\n",
    "    pickle.dump(allImage, open( 'data/' + save_name + '.pkl', \"wb\" ) )\n",
    "    \n",
    "    # Ending time.\n",
    "    end_time = time.time()\n",
    "    # Difference between start and end-times.\n",
    "    time_dif = end_time - start_time\n",
    "    # Print the time-usage.\n",
    "    print(\"Time usage: \" + str(timedelta(seconds=int(round(time_dif)))))"
   ]
  },
  {
   "cell_type": "code",
   "execution_count": 111,
   "metadata": {},
   "outputs": [
    {
     "name": "stdout",
     "output_type": "stream",
     "text": [
      "Time usage: 0:00:44\n",
      "Time usage: 0:00:45\n"
     ]
    }
   ],
   "source": [
    "image_resize = 60\n",
    "DataBase_creator(archivezip = archive_train, nwidth = image_resize, nheight = image_resize , save_name = \"train\")\n",
    "DataBase_creator(archivezip = archive_test, nwidth = image_resize, nheight = image_resize , save_name = \"test\")"
   ]
  },
  {
   "cell_type": "code",
   "execution_count": 112,
   "metadata": {},
   "outputs": [
    {
     "data": {
      "text/plain": [
       "(10222, 60, 60, 3)"
      ]
     },
     "execution_count": 112,
     "metadata": {},
     "output_type": "execute_result"
    }
   ],
   "source": [
    "train = pickle.load( open( \"data/train.pkl\", \"rb\" ) )\n",
    "train.shape"
   ]
  },
  {
   "cell_type": "code",
   "execution_count": 142,
   "metadata": {},
   "outputs": [
    {
     "data": {
      "text/html": [
       "<div>\n",
       "<style scoped>\n",
       "    .dataframe tbody tr th:only-of-type {\n",
       "        vertical-align: middle;\n",
       "    }\n",
       "\n",
       "    .dataframe tbody tr th {\n",
       "        vertical-align: top;\n",
       "    }\n",
       "\n",
       "    .dataframe thead th {\n",
       "        text-align: right;\n",
       "    }\n",
       "</style>\n",
       "<table border=\"1\" class=\"dataframe\">\n",
       "  <thead>\n",
       "    <tr style=\"text-align: right;\">\n",
       "      <th></th>\n",
       "      <th>id</th>\n",
       "      <th>breed</th>\n",
       "    </tr>\n",
       "  </thead>\n",
       "  <tbody>\n",
       "    <tr>\n",
       "      <th>6158</th>\n",
       "      <td>9b26dfa18347cdb0aaafad0baa5522b4</td>\n",
       "      <td>blenheim_spaniel</td>\n",
       "    </tr>\n",
       "    <tr>\n",
       "      <th>7541</th>\n",
       "      <td>bd2a4492ae1a0fd8b77dab961de0f71f</td>\n",
       "      <td>beagle</td>\n",
       "    </tr>\n",
       "    <tr>\n",
       "      <th>8033</th>\n",
       "      <td>c8d9160a26b275e85fb06b5c0e9fefd8</td>\n",
       "      <td>kuvasz</td>\n",
       "    </tr>\n",
       "    <tr>\n",
       "      <th>8647</th>\n",
       "      <td>d91689717c8333406434d3511990958d</td>\n",
       "      <td>briard</td>\n",
       "    </tr>\n",
       "    <tr>\n",
       "      <th>4615</th>\n",
       "      <td>7357e516c31c862461b63e21e52213d1</td>\n",
       "      <td>pomeranian</td>\n",
       "    </tr>\n",
       "  </tbody>\n",
       "</table>\n",
       "</div>"
      ],
      "text/plain": [
       "                                    id             breed\n",
       "6158  9b26dfa18347cdb0aaafad0baa5522b4  blenheim_spaniel\n",
       "7541  bd2a4492ae1a0fd8b77dab961de0f71f            beagle\n",
       "8033  c8d9160a26b275e85fb06b5c0e9fefd8            kuvasz\n",
       "8647  d91689717c8333406434d3511990958d            briard\n",
       "4615  7357e516c31c862461b63e21e52213d1        pomeranian"
      ]
     },
     "execution_count": 142,
     "metadata": {},
     "output_type": "execute_result"
    }
   ],
   "source": [
    "labels_raw = pd.read_csv(\"./data/labels.csv\", header=0, sep=',', quotechar='\"')\n",
    "labels_raw.sample(5)"
   ]
  },
  {
   "cell_type": "code",
   "execution_count": 157,
   "metadata": {},
   "outputs": [
    {
     "name": "stderr",
     "output_type": "stream",
     "text": [
      "/opt/conda/lib/python3.7/site-packages/ipykernel_launcher.py:5: DeprecationWarning: `itemfreq` is deprecated!\n",
      "`itemfreq` is deprecated and will be removed in a future version. Use instead `np.unique(..., return_counts=True)`\n",
      "  \"\"\"\n",
      "/opt/conda/lib/python3.7/site-packages/ipykernel_launcher.py:13: FutureWarning: Method .as_matrix will be removed in a future version. Use .values instead.\n",
      "  del sys.path[0]\n"
     ]
    },
    {
     "name": "stdout",
     "output_type": "stream",
     "text": [
      "- Number of images remaining after selecting the 64 main breeds : (6048,)\n",
      "- The shape of train_filtered dataset is : (6048, 60, 60, 3)\n"
     ]
    }
   ],
   "source": [
    "Nber_of_breeds = 64\n",
    "\n",
    "# Get the N most represented breeds\n",
    "def main_breeds(labels_raw, Nber_breeds , all_breeds='TRUE'):\n",
    "    labels_freq_pd = itemfreq(labels_raw[\"breed\"])\n",
    "    labels_freq_pd = labels_freq_pd[labels_freq_pd[:, 1].argsort()[::-1]]\n",
    "    \n",
    "    if all_breeds == 'FALSE':\n",
    "        main_labels = labels_freq_pd[:,0][0:Nber_breeds]\n",
    "    else: \n",
    "        main_labels = labels_freq_pd[:,0][:]\n",
    "        \n",
    "    labels_raw_np = labels_raw[\"breed\"].as_matrix()\n",
    "    labels_raw_np = labels_raw_np.reshape(labels_raw_np.shape[0],1)\n",
    "    labels_filtered_index = np.where(labels_raw_np == main_labels)\n",
    "    return labels_filtered_index\n",
    "\n",
    "labels_filtered_index = main_breeds(labels_raw = labels_raw, Nber_breeds = Nber_of_breeds, all_breeds='FALSE')\n",
    "labels_filtered = labels_raw.iloc[labels_filtered_index[0],:]\n",
    "train_filtered = train[labels_filtered_index[0],:,:,:]\n",
    "print('- Number of images remaining after selecting the {0} main breeds : {1}'.format(Nber_of_breeds, labels_filtered_index[0].shape))\n",
    "print('- The shape of train_filtered dataset is : {0}'.format(train_filtered.shape))"
   ]
  },
  {
   "cell_type": "code",
   "execution_count": 158,
   "metadata": {},
   "outputs": [
    {
     "name": "stderr",
     "output_type": "stream",
     "text": [
      "/opt/conda/lib/python3.7/site-packages/ipykernel_launcher.py:2: FutureWarning: Method .as_matrix will be removed in a future version. Use .values instead.\n",
      "  \n"
     ]
    },
    {
     "data": {
      "text/plain": [
       "(6048, 1)"
      ]
     },
     "execution_count": 158,
     "metadata": {},
     "output_type": "execute_result"
    }
   ],
   "source": [
    "# We select the labels from the N main breeds\n",
    "labels = labels_filtered[\"breed\"].as_matrix()\n",
    "labels = labels.reshape(labels.shape[0],1) #labels.shape[0] looks faster than using len(labels)\n",
    "labels.shape"
   ]
  },
  {
   "cell_type": "code",
   "execution_count": 159,
   "metadata": {},
   "outputs": [],
   "source": [
    "def matrix_Bin(labels):\n",
    "    labels_bin=np.array([])\n",
    "\n",
    "    labels_name, labels0 = np.unique(labels, return_inverse=True)\n",
    "    labels0\n",
    "    \n",
    "    for _, i in enumerate(itemfreq(labels0)[:,0].astype(int)):\n",
    "        labels_bin0 = np.where(labels0 == itemfreq(labels0)[:,0][i], 1., 0.)\n",
    "        labels_bin0 = labels_bin0.reshape(1,labels_bin0.shape[0])\n",
    "\n",
    "        if (labels_bin.shape[0] == 0):\n",
    "            labels_bin = labels_bin0\n",
    "        else:\n",
    "            labels_bin = np.concatenate((labels_bin,labels_bin0 ),axis=0)\n",
    "\n",
    "    print(\"Nber SubVariables {0}\".format(itemfreq(labels0)[:,0].shape[0]))\n",
    "    labels_bin = labels_bin.transpose()\n",
    "    print(\"Shape : {0}\".format(labels_bin.shape))\n",
    "    \n",
    "    return labels_name, labels_bin"
   ]
  },
  {
   "cell_type": "code",
   "execution_count": 160,
   "metadata": {},
   "outputs": [
    {
     "name": "stdout",
     "output_type": "stream",
     "text": [
      "Nber SubVariables 64\n",
      "Shape : (6048, 64)\n"
     ]
    },
    {
     "name": "stderr",
     "output_type": "stream",
     "text": [
      "/opt/conda/lib/python3.7/site-packages/ipykernel_launcher.py:7: DeprecationWarning: `itemfreq` is deprecated!\n",
      "`itemfreq` is deprecated and will be removed in a future version. Use instead `np.unique(..., return_counts=True)`\n",
      "  import sys\n",
      "/opt/conda/lib/python3.7/site-packages/ipykernel_launcher.py:8: DeprecationWarning: `itemfreq` is deprecated!\n",
      "`itemfreq` is deprecated and will be removed in a future version. Use instead `np.unique(..., return_counts=True)`\n",
      "  \n",
      "/opt/conda/lib/python3.7/site-packages/ipykernel_launcher.py:16: DeprecationWarning: `itemfreq` is deprecated!\n",
      "`itemfreq` is deprecated and will be removed in a future version. Use instead `np.unique(..., return_counts=True)`\n",
      "  app.launch_new_instance()\n"
     ]
    },
    {
     "data": {
      "text/plain": [
       "'bluetick'"
      ]
     },
     "execution_count": 160,
     "metadata": {},
     "output_type": "execute_result"
    }
   ],
   "source": [
    "labels_name, labels_bin = matrix_Bin(labels = labels)\n",
    "labels_name[labels_bin[1].argmax()]"
   ]
  },
  {
   "cell_type": "code",
   "execution_count": 161,
   "metadata": {},
   "outputs": [
    {
     "name": "stdout",
     "output_type": "stream",
     "text": [
      "(6048, 60, 60, 3)\n",
      "(6048, 64)\n",
      "(64,)\n"
     ]
    }
   ],
   "source": [
    "print(train_filtered.shape)\n",
    "print(labels_bin.shape)\n",
    "print(labels_name.shape)"
   ]
  },
  {
   "cell_type": "code",
   "execution_count": 162,
   "metadata": {},
   "outputs": [],
   "source": [
    "num_validation = 0.30\n",
    "X_train, X_test, y_train, y_test = train_test_split(train_filtered, labels_bin, test_size=num_validation, random_state=6)"
   ]
  },
  {
   "cell_type": "code",
   "execution_count": 163,
   "metadata": {},
   "outputs": [
    {
     "data": {
      "text/plain": [
       "(4233, 60, 60, 3)"
      ]
     },
     "execution_count": 163,
     "metadata": {},
     "output_type": "execute_result"
    }
   ],
   "source": [
    "X_train.shape"
   ]
  },
  {
   "cell_type": "code",
   "execution_count": 164,
   "metadata": {},
   "outputs": [
    {
     "data": {
      "text/plain": [
       "(1815, 60, 60, 3)"
      ]
     },
     "execution_count": 164,
     "metadata": {},
     "output_type": "execute_result"
    }
   ],
   "source": [
    "X_test.shape"
   ]
  },
  {
   "cell_type": "code",
   "execution_count": 165,
   "metadata": {},
   "outputs": [
    {
     "data": {
      "text/plain": [
       "(4233, 64)"
      ]
     },
     "execution_count": 165,
     "metadata": {},
     "output_type": "execute_result"
    }
   ],
   "source": [
    "y_train.shape"
   ]
  },
  {
   "cell_type": "code",
   "execution_count": 166,
   "metadata": {},
   "outputs": [
    {
     "data": {
      "text/plain": [
       "(1815, 64)"
      ]
     },
     "execution_count": 166,
     "metadata": {},
     "output_type": "execute_result"
    }
   ],
   "source": [
    "y_test.shape"
   ]
  },
  {
   "cell_type": "code",
   "execution_count": 167,
   "metadata": {},
   "outputs": [
    {
     "data": {
      "text/plain": [
       "<matplotlib.image.AxesImage at 0x7f4dea9d8898>"
      ]
     },
     "execution_count": 167,
     "metadata": {},
     "output_type": "execute_result"
    },
    {
     "data": {
      "image/png": "[encoded data removed]",
      "text/plain": [
       "<Figure size 432x288 with 1 Axes>"
      ]
     },
     "metadata": {
      "needs_background": "light"
     },
     "output_type": "display_data"
    }
   ],
   "source": [
    "plt.imshow(X_train[8])"
   ]
  },
  {
   "cell_type": "code",
   "execution_count": 168,
   "metadata": {},
   "outputs": [
    {
     "data": {
      "text/plain": [
       "'shih-tzu'"
      ]
     },
     "execution_count": 168,
     "metadata": {},
     "output_type": "execute_result"
    }
   ],
   "source": [
    "labels_name[y_train[8].argmax()]"
   ]
  },
  {
   "cell_type": "code",
   "execution_count": 169,
   "metadata": {},
   "outputs": [],
   "source": [
    "pickle.dump(X_train, open(\"pickles/X_train_\" + str(image_resize) + \"x\" + str(image_resize) + \"_\" + str(Nber_of_breeds) + \".pkl\", \"wb\"))\n",
    "pickle.dump(X_test, open(\"pickles/X_test_\" + str(image_resize) + \"x\" + str(image_resize) + \"_\" + str(Nber_of_breeds) + \".pkl\", \"wb\"))\n",
    "pickle.dump(y_train, open(\"pickles/y_train_\" + str(image_resize) + \"x\" + str(image_resize) + \"_\" + str(Nber_of_breeds) + \".pkl\", \"wb\"))\n",
    "pickle.dump(y_test, open(\"pickles/y_test_\" + str(image_resize) + \"x\" + str(image_resize) + \"_\" + str(Nber_of_breeds) + \".pkl\", \"wb\"))\n",
    "pickle.dump(labels_name, open(\"pickles/labels_name_\" + str(image_resize) + \"x\" + str(image_resize) + \"_\" + str(Nber_of_breeds) + \".pkl\", \"wb\"))"
   ]
  },
  {
   "cell_type": "code",
   "execution_count": 170,
   "metadata": {},
   "outputs": [
    {
     "name": "stdout",
     "output_type": "stream",
     "text": [
      "X_train_60x60_64\n"
     ]
    }
   ],
   "source": [
    "print(\"X_train_\" + str(image_resize) + \"x\" + str(image_resize) + \"_\" + str(Nber_of_breeds))"
   ]
  },
  {
   "cell_type": "code",
   "execution_count": 21,
   "metadata": {},
   "outputs": [],
   "source": [
    "X_train = pickle.load(open(\"pickles/X_train.pkl\", \"rb\"))"
   ]
  }
 ],
 "metadata": {
  "kernelspec": {
   "display_name": "cogs118b",
   "language": "python",
   "name": "cogs118b"
  },
  "language_info": {
   "codemirror_mode": {
    "name": "ipython",
    "version": 3
   },
   "file_extension": ".py",
   "mimetype": "text/x-python",
   "name": "python",
   "nbconvert_exporter": "python",
   "pygments_lexer": "ipython3",
   "version": "3.7.3"
  }
 },
 "nbformat": 4,
 "nbformat_minor": 4
}
