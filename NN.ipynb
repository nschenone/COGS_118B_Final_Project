{
 "cells": [
  {
   "cell_type": "code",
   "execution_count": 55,
   "metadata": {},
   "outputs": [],
   "source": [
    "import pickle\n",
    "%matplotlib inline\n",
    "import matplotlib.pyplot as plt\n",
    "from IPython.display import SVG\n",
    "\n",
    "import numpy as np\n",
    "\n",
    "import pandas as pd\n",
    "\n",
    "import keras\n",
    "from keras.models import Sequential\n",
    "from keras.layers import Dense, Conv2D, Flatten, MaxPool2D, Dropout, BatchNormalization, Activation\n",
    "from keras.callbacks import ModelCheckpoint, EarlyStopping\n",
    "from keras.models import load_model\n",
    "from keras_tqdm import TQDMNotebookCallback\n",
    "from keras.utils import model_to_dot\n",
    "\n",
    "from sklearn import decomposition\n",
    "from sklearn.metrics import confusion_matrix, accuracy_score, average_precision_score, recall_score, precision_score\n",
    "from sklearn.model_selection import train_test_split, KFold, StratifiedKFold"
   ]
  },
  {
   "cell_type": "markdown",
   "metadata": {},
   "source": [
    "### PCA Data Transformation"
   ]
  },
  {
   "cell_type": "code",
   "execution_count": 56,
   "metadata": {},
   "outputs": [],
   "source": [
    "def pca_data_transform(X):\n",
    "    X_out = np.zeros_like(X)\n",
    "    for i in range(X_out.shape[0]):\n",
    "        X_sample = X[i]\n",
    "        X_reshape = X_sample.reshape(-1,X_sample.shape[2])\n",
    "        pca = decomposition.PCA(n_components=3)\n",
    "        X_pca = pca.fit_transform(X_reshape)\n",
    "        X_pca = X_pca.reshape(X_sample.shape)\n",
    "        X_out[i] = X_pca\n",
    "    \n",
    "    return X_out"
   ]
  },
  {
   "cell_type": "markdown",
   "metadata": {},
   "source": [
    "### Model Definition and Training"
   ]
  },
  {
   "cell_type": "code",
   "execution_count": 65,
   "metadata": {
    "jupyter": {
     "source_hidden": true
    }
   },
   "outputs": [],
   "source": [
    "# def train_model(X_train, y_train, X_test, y_test, image_resize, Nber_of_breeds, dropout, fully_connected_nodes, learning_rate, epochs, batch_size):\n",
    "#     # Create model\n",
    "#     model = Sequential()\n",
    "#     model.add(Conv2D(32, kernel_size=5, input_shape=(image_resize,image_resize,3)))\n",
    "#     model.add(BatchNormalization())\n",
    "#     model.add(Activation(\"relu\"))\n",
    "#     model.add(MaxPool2D(pool_size=(2, 2), strides=(2,2), padding='same'))\n",
    "    \n",
    "#     model.add(Dropout(dropout))\n",
    "\n",
    "#     model.add(Conv2D(64, kernel_size=4))\n",
    "#     model.add(BatchNormalization())\n",
    "#     model.add(Activation(\"relu\"))\n",
    "#     model.add(MaxPool2D(pool_size=(2, 2), strides=(2,2), padding='same'))\n",
    "    \n",
    "#     model.add(Dropout(dropout))\n",
    "\n",
    "#     model.add(Conv2D(128, kernel_size=3))\n",
    "#     model.add(BatchNormalization())\n",
    "#     model.add(Activation(\"relu\"))\n",
    "#     model.add(MaxPool2D(pool_size=(2, 2), strides=(2,2), padding='same'))\n",
    "    \n",
    "#     model.add(Dropout(dropout))\n",
    "\n",
    "#     # model.add(Conv2D(256, kernel_size=3, activation='relu'))\n",
    "#     # model.add(MaxPool2D(pool_size=(2, 2), strides=(2,2), padding='same'))\n",
    "\n",
    "#     model.add(Dropout(dropout))\n",
    "#     model.add(Flatten())\n",
    "    \n",
    "#     model.add(Dense(fully_connected_nodes))\n",
    "#     model.add(BatchNormalization())\n",
    "#     model.add(Activation(\"relu\"))\n",
    "    \n",
    "#     model.add(Dropout(dropout))\n",
    "\n",
    "#     model.add(Dense(Nber_of_breeds, activation='relu'))\n",
    "\n",
    "#     # Compile model\n",
    "#     model_name = \"model_\" + str(image_resize) + \"x\" + str(image_resize) + \"_\" + str(Nber_of_breeds) + \"breeds_\" + str(dropout) + \"dropout_\" + str(learning_rate) + \"lr_\" + str(fully_connected_nodes) + \"fc_\" + str(batch_size) + \"batch\"\n",
    "#     print(model_name)\n",
    "    \n",
    "#     checkpointer = ModelCheckpoint(filepath=\"models/\" + model_name + \".hdf5\", verbose=1, save_best_only=True)\n",
    "#     early_stopping = EarlyStopping(monitor='val_loss', mode='min', verbose=1, patience=5)\n",
    "#     adam = keras.optimizers.Adam(learning_rate=learning_rate)\n",
    "#     model.compile(optimizer=adam, loss='categorical_crossentropy', metrics=['accuracy'])\n",
    "\n",
    "#     # Train model\n",
    "#     history = model.fit(X_train, y_train, validation_data=(X_test, y_test), epochs=epochs, batch_size=batch_size, callbacks=[checkpointer, early_stopping, TQDMNotebookCallback()], verbose=0)\n",
    "    \n",
    "#     return model, history"
   ]
  },
  {
   "cell_type": "code",
   "execution_count": 80,
   "metadata": {},
   "outputs": [],
   "source": [
    "def train_model(X_train, y_train, X_test, y_test, image_resize, Nber_of_breeds, dropout, fully_connected_nodes, learning_rate, epochs, batch_size):\n",
    "    # Create model\n",
    "    model = Sequential()\n",
    "    #add model layers\n",
    "    model.add(Conv2D(32, kernel_size=5, activation='relu', input_shape=(image_resize,image_resize,3)))\n",
    "    model.add(MaxPool2D(pool_size=(2, 2), strides=(2,2), padding='same'))\n",
    "\n",
    "    model.add(Conv2D(64, kernel_size=4, activation='relu'))\n",
    "    model.add(MaxPool2D(pool_size=(2, 2), strides=(2,2), padding='same'))\n",
    "\n",
    "    model.add(Conv2D(128, kernel_size=3, activation='relu'))\n",
    "    model.add(MaxPool2D(pool_size=(2, 2), strides=(2,2), padding='same'))\n",
    "\n",
    "    # model.add(Conv2D(256, kernel_size=3, activation='relu'))\n",
    "    # model.add(MaxPool2D(pool_size=(2, 2), strides=(2,2), padding='same'))\n",
    "\n",
    "    model.add(Dropout(dropout))\n",
    "    model.add(Flatten())\n",
    "    model.add(Dense(fully_connected_nodes, activation='relu'))\n",
    "    model.add(Dropout(dropout))\n",
    "\n",
    "    model.add(Dense(Nber_of_breeds, activation='softmax'))\n",
    "\n",
    "    # Compile model\n",
    "    model_name = \"model_\" + str(image_resize) + \"x\" + str(image_resize) + \"_\" + str(Nber_of_breeds) + \"breeds_\" + str(dropout) + \"dropout_\" + str(learning_rate) + \"lr_\" + str(fully_connected_nodes) + \"fc_\" + str(batch_size) + \"batch\"\n",
    "    print(model_name)\n",
    "    \n",
    "    checkpointer = ModelCheckpoint(filepath=\"models/\" + model_name + \".hdf5\", verbose=1, save_best_only=True)\n",
    "    early_stopping = EarlyStopping(monitor='val_loss', mode='min', verbose=1, patience=5)\n",
    "    adam = keras.optimizers.Adam(learning_rate=learning_rate)\n",
    "    model.compile(optimizer=adam, loss='categorical_crossentropy', metrics=['accuracy'])\n",
    "\n",
    "    # Train model\n",
    "    history = model.fit(X_train, y_train, validation_data=(X_test, y_test), epochs=epochs, batch_size=batch_size, callbacks=[checkpointer, early_stopping, TQDMNotebookCallback()], verbose=0)\n",
    "    \n",
    "    return model, history"
   ]
  },
  {
   "cell_type": "markdown",
   "metadata": {},
   "source": [
    "### Model Evaluation"
   ]
  },
  {
   "cell_type": "code",
   "execution_count": 81,
   "metadata": {},
   "outputs": [],
   "source": [
    "def evaluate_model(model, X_train, y_train, X_test, y_test, labels_name):\n",
    "    predictions = model.predict(X_test)\n",
    "    \n",
    "    pred_argmax = []\n",
    "    for pred in predictions:\n",
    "        pred_argmax.append(pred.argmax())\n",
    "\n",
    "    true_argmax = []\n",
    "    for pred in y_test:\n",
    "        true_argmax.append(pred.argmax())\n",
    "\n",
    "    accuracy = accuracy_score(true_argmax, pred_argmax)\n",
    "    conf_matrix = confusion_matrix(true_argmax, pred_argmax)\n",
    "    \n",
    "    df = pd.DataFrame(conf_matrix)\n",
    "    df = df.T\n",
    "    df.columns = labels_name\n",
    "    df = df.T\n",
    "    df.columns = labels_name\n",
    "    \n",
    "    y_true = np.array(true_argmax)\n",
    "    y_scores = np.array(pred_argmax)\n",
    "    \n",
    "    precision = precision_score(y_true, y_scores, average='weighted')\n",
    "    \n",
    "    recall = recall_score(y_true, y_scores, average='weighted')\n",
    "    \n",
    "    return accuracy, recall, precision , df"
   ]
  },
  {
   "cell_type": "markdown",
   "metadata": {},
   "source": [
    "### Hyperparameters"
   ]
  },
  {
   "cell_type": "code",
   "execution_count": 82,
   "metadata": {},
   "outputs": [],
   "source": [
    "# Data params\n",
    "image_resize = 60\n",
    "Nber_of_breeds = 8\n",
    "use_pca = False\n",
    "\n",
    "# Model params\n",
    "dropout = 0.5\n",
    "fully_connected_nodes = 500\n",
    "learning_rate=0.0005\n",
    "# learning_rates= [0.0001, 0.0005, 0.001]\n",
    "\n",
    "# Training params\n",
    "epochs = 50\n",
    "batch_size = 20"
   ]
  },
  {
   "cell_type": "markdown",
   "metadata": {},
   "source": [
    "### Load data"
   ]
  },
  {
   "cell_type": "code",
   "execution_count": 83,
   "metadata": {},
   "outputs": [],
   "source": [
    "# Load data\n",
    "X = pickle.load(open(\"pickles/X_\" + str(image_resize) + \"x\" + str(image_resize) + \"_\" + str(Nber_of_breeds) + \".pkl\", \"rb\"))\n",
    "y = pickle.load(open(\"pickles/y_\" + str(image_resize) + \"x\" + str(image_resize) + \"_\" + str(Nber_of_breeds) + \".pkl\", \"rb\"))\n",
    "labels_name = pickle.load(open(\"pickles/labels_name_\" + str(image_resize) + \"x\" + str(image_resize) + \"_\" + str(Nber_of_breeds) + \".pkl\", \"rb\"))\n",
    "\n",
    "num_validation = 0.30\n",
    "X_train, X_test, y_train, y_test = train_test_split(X, y, test_size=num_validation)\n",
    "\n",
    "# PCA\n",
    "if use_pca:\n",
    "    X_train = pca_data_transform(X_train)\n",
    "    X_test = pca_data_transform(X_test)"
   ]
  },
  {
   "cell_type": "markdown",
   "metadata": {},
   "source": [
    "### Train Model"
   ]
  },
  {
   "cell_type": "code",
   "execution_count": 84,
   "metadata": {},
   "outputs": [
    {
     "name": "stdout",
     "output_type": "stream",
     "text": [
      "model_60x60_8breeds_0.5dropout_0.0005lr_500fc_20batch\n"
     ]
    },
    {
     "data": {
      "application/vnd.jupyter.widget-view+json": {
       "model_id": "189e001ae81d483abd7039b80324c2e8",
       "version_major": 2,
       "version_minor": 0
      },
      "text/plain": [
       "HBox(children=(IntProgress(value=0, description='Training', max=50, style=ProgressStyle(description_width='ini…"
      ]
     },
     "metadata": {},
     "output_type": "display_data"
    },
    {
     "data": {
      "application/vnd.jupyter.widget-view+json": {
       "model_id": "",
       "version_major": 2,
       "version_minor": 0
      },
      "text/plain": [
       "HBox(children=(IntProgress(value=0, description='Epoch 0', max=645, style=ProgressStyle(description_width='ini…"
      ]
     },
     "metadata": {},
     "output_type": "display_data"
    },
    {
     "name": "stdout",
     "output_type": "stream",
     "text": [
      "\n",
      "Epoch 00001: val_loss improved from inf to 2.06240, saving model to models/model_60x60_8breeds_0.5dropout_0.0005lr_500fc_20batch.hdf5\n"
     ]
    },
    {
     "data": {
      "application/vnd.jupyter.widget-view+json": {
       "model_id": "",
       "version_major": 2,
       "version_minor": 0
      },
      "text/plain": [
       "HBox(children=(IntProgress(value=0, description='Epoch 1', max=645, style=ProgressStyle(description_width='ini…"
      ]
     },
     "metadata": {},
     "output_type": "display_data"
    },
    {
     "name": "stdout",
     "output_type": "stream",
     "text": [
      "\n",
      "Epoch 00002: val_loss improved from 2.06240 to 1.94892, saving model to models/model_60x60_8breeds_0.5dropout_0.0005lr_500fc_20batch.hdf5\n"
     ]
    },
    {
     "data": {
      "application/vnd.jupyter.widget-view+json": {
       "model_id": "",
       "version_major": 2,
       "version_minor": 0
      },
      "text/plain": [
       "HBox(children=(IntProgress(value=0, description='Epoch 2', max=645, style=ProgressStyle(description_width='ini…"
      ]
     },
     "metadata": {},
     "output_type": "display_data"
    },
    {
     "name": "stdout",
     "output_type": "stream",
     "text": [
      "\n",
      "Epoch 00003: val_loss did not improve from 1.94892\n"
     ]
    },
    {
     "data": {
      "application/vnd.jupyter.widget-view+json": {
       "model_id": "",
       "version_major": 2,
       "version_minor": 0
      },
      "text/plain": [
       "HBox(children=(IntProgress(value=0, description='Epoch 3', max=645, style=ProgressStyle(description_width='ini…"
      ]
     },
     "metadata": {},
     "output_type": "display_data"
    },
    {
     "name": "stdout",
     "output_type": "stream",
     "text": [
      "\n",
      "Epoch 00004: val_loss improved from 1.94892 to 1.73947, saving model to models/model_60x60_8breeds_0.5dropout_0.0005lr_500fc_20batch.hdf5\n"
     ]
    },
    {
     "data": {
      "application/vnd.jupyter.widget-view+json": {
       "model_id": "",
       "version_major": 2,
       "version_minor": 0
      },
      "text/plain": [
       "HBox(children=(IntProgress(value=0, description='Epoch 4', max=645, style=ProgressStyle(description_width='ini…"
      ]
     },
     "metadata": {},
     "output_type": "display_data"
    },
    {
     "name": "stdout",
     "output_type": "stream",
     "text": [
      "\n",
      "Epoch 00005: val_loss did not improve from 1.73947\n"
     ]
    },
    {
     "data": {
      "application/vnd.jupyter.widget-view+json": {
       "model_id": "",
       "version_major": 2,
       "version_minor": 0
      },
      "text/plain": [
       "HBox(children=(IntProgress(value=0, description='Epoch 5', max=645, style=ProgressStyle(description_width='ini…"
      ]
     },
     "metadata": {},
     "output_type": "display_data"
    },
    {
     "name": "stdout",
     "output_type": "stream",
     "text": [
      "\n",
      "Epoch 00006: val_loss did not improve from 1.73947\n"
     ]
    },
    {
     "data": {
      "application/vnd.jupyter.widget-view+json": {
       "model_id": "",
       "version_major": 2,
       "version_minor": 0
      },
      "text/plain": [
       "HBox(children=(IntProgress(value=0, description='Epoch 6', max=645, style=ProgressStyle(description_width='ini…"
      ]
     },
     "metadata": {},
     "output_type": "display_data"
    },
    {
     "name": "stdout",
     "output_type": "stream",
     "text": [
      "\n",
      "Epoch 00007: val_loss improved from 1.73947 to 1.71946, saving model to models/model_60x60_8breeds_0.5dropout_0.0005lr_500fc_20batch.hdf5\n"
     ]
    },
    {
     "data": {
      "application/vnd.jupyter.widget-view+json": {
       "model_id": "",
       "version_major": 2,
       "version_minor": 0
      },
      "text/plain": [
       "HBox(children=(IntProgress(value=0, description='Epoch 7', max=645, style=ProgressStyle(description_width='ini…"
      ]
     },
     "metadata": {},
     "output_type": "display_data"
    },
    {
     "name": "stdout",
     "output_type": "stream",
     "text": [
      "\n",
      "Epoch 00008: val_loss did not improve from 1.71946\n"
     ]
    },
    {
     "data": {
      "application/vnd.jupyter.widget-view+json": {
       "model_id": "",
       "version_major": 2,
       "version_minor": 0
      },
      "text/plain": [
       "HBox(children=(IntProgress(value=0, description='Epoch 8', max=645, style=ProgressStyle(description_width='ini…"
      ]
     },
     "metadata": {},
     "output_type": "display_data"
    },
    {
     "name": "stdout",
     "output_type": "stream",
     "text": [
      "\n",
      "Epoch 00009: val_loss improved from 1.71946 to 1.67143, saving model to models/model_60x60_8breeds_0.5dropout_0.0005lr_500fc_20batch.hdf5\n"
     ]
    },
    {
     "data": {
      "application/vnd.jupyter.widget-view+json": {
       "model_id": "",
       "version_major": 2,
       "version_minor": 0
      },
      "text/plain": [
       "HBox(children=(IntProgress(value=0, description='Epoch 9', max=645, style=ProgressStyle(description_width='ini…"
      ]
     },
     "metadata": {},
     "output_type": "display_data"
    },
    {
     "name": "stdout",
     "output_type": "stream",
     "text": [
      "\n",
      "Epoch 00010: val_loss did not improve from 1.67143\n"
     ]
    },
    {
     "data": {
      "application/vnd.jupyter.widget-view+json": {
       "model_id": "",
       "version_major": 2,
       "version_minor": 0
      },
      "text/plain": [
       "HBox(children=(IntProgress(value=0, description='Epoch 10', max=645, style=ProgressStyle(description_width='in…"
      ]
     },
     "metadata": {},
     "output_type": "display_data"
    },
    {
     "name": "stdout",
     "output_type": "stream",
     "text": [
      "\n",
      "Epoch 00011: val_loss did not improve from 1.67143\n"
     ]
    },
    {
     "data": {
      "application/vnd.jupyter.widget-view+json": {
       "model_id": "",
       "version_major": 2,
       "version_minor": 0
      },
      "text/plain": [
       "HBox(children=(IntProgress(value=0, description='Epoch 11', max=645, style=ProgressStyle(description_width='in…"
      ]
     },
     "metadata": {},
     "output_type": "display_data"
    },
    {
     "name": "stdout",
     "output_type": "stream",
     "text": [
      "\n",
      "Epoch 00012: val_loss did not improve from 1.67143\n"
     ]
    },
    {
     "data": {
      "application/vnd.jupyter.widget-view+json": {
       "model_id": "",
       "version_major": 2,
       "version_minor": 0
      },
      "text/plain": [
       "HBox(children=(IntProgress(value=0, description='Epoch 12', max=645, style=ProgressStyle(description_width='in…"
      ]
     },
     "metadata": {},
     "output_type": "display_data"
    },
    {
     "name": "stdout",
     "output_type": "stream",
     "text": [
      "\n",
      "Epoch 00013: val_loss did not improve from 1.67143\n"
     ]
    },
    {
     "data": {
      "application/vnd.jupyter.widget-view+json": {
       "model_id": "",
       "version_major": 2,
       "version_minor": 0
      },
      "text/plain": [
       "HBox(children=(IntProgress(value=0, description='Epoch 13', max=645, style=ProgressStyle(description_width='in…"
      ]
     },
     "metadata": {},
     "output_type": "display_data"
    },
    {
     "name": "stdout",
     "output_type": "stream",
     "text": [
      "\n",
      "Epoch 00014: val_loss did not improve from 1.67143\n",
      "Epoch 00014: early stopping\n",
      "\n"
     ]
    },
    {
     "data": {
      "image/png": "[encoded data removed]",
      "text/plain": [
       "<Figure size 432x288 with 1 Axes>"
      ]
     },
     "metadata": {
      "needs_background": "light"
     },
     "output_type": "display_data"
    }
   ],
   "source": [
    "model, history = train_model(X_train, y_train, X_test, y_test, image_resize, Nber_of_breeds, dropout, fully_connected_nodes, learning_rate, epochs, batch_size)\n",
    "\n",
    "plt.plot(history.history[\"val_accuracy\"], label = \"val_accuracy\")\n",
    "plt.plot(history.history[\"accuracy\"], label = \"accuracy\")\n",
    "plt.legend();"
   ]
  },
  {
   "cell_type": "code",
   "execution_count": 77,
   "metadata": {},
   "outputs": [],
   "source": [
    "# for learning_rate in learning_rates:\n",
    "#     train_model(image_resize, Nber_of_breeds, dropout, fully_connected_nodes, learning_rate, epochs, batch_size)"
   ]
  },
  {
   "cell_type": "markdown",
   "metadata": {},
   "source": [
    "### Evaluate Model"
   ]
  },
  {
   "cell_type": "code",
   "execution_count": 85,
   "metadata": {},
   "outputs": [
    {
     "name": "stdout",
     "output_type": "stream",
     "text": [
      "Accuracy: 0.41155234657039713\n",
      "Recall: 0.41155234657039713\n",
      "Precision: 0.423256917570997\n"
     ]
    },
    {
     "data": {
      "text/html": [
       "<div>\n",
       "<style scoped>\n",
       "    .dataframe tbody tr th:only-of-type {\n",
       "        vertical-align: middle;\n",
       "    }\n",
       "\n",
       "    .dataframe tbody tr th {\n",
       "        vertical-align: top;\n",
       "    }\n",
       "\n",
       "    .dataframe thead th {\n",
       "        text-align: right;\n",
       "    }\n",
       "</style>\n",
       "<table border=\"1\" class=\"dataframe\">\n",
       "  <thead>\n",
       "    <tr style=\"text-align: right;\">\n",
       "      <th></th>\n",
       "      <th>afghan_hound</th>\n",
       "      <th>bernese_mountain_dog</th>\n",
       "      <th>entlebucher</th>\n",
       "      <th>great_pyrenees</th>\n",
       "      <th>maltese_dog</th>\n",
       "      <th>pomeranian</th>\n",
       "      <th>scottish_deerhound</th>\n",
       "      <th>shih-tzu</th>\n",
       "    </tr>\n",
       "  </thead>\n",
       "  <tbody>\n",
       "    <tr>\n",
       "      <th>afghan_hound</th>\n",
       "      <td>12</td>\n",
       "      <td>1</td>\n",
       "      <td>2</td>\n",
       "      <td>4</td>\n",
       "      <td>1</td>\n",
       "      <td>9</td>\n",
       "      <td>1</td>\n",
       "      <td>1</td>\n",
       "    </tr>\n",
       "    <tr>\n",
       "      <th>bernese_mountain_dog</th>\n",
       "      <td>1</td>\n",
       "      <td>22</td>\n",
       "      <td>6</td>\n",
       "      <td>0</td>\n",
       "      <td>0</td>\n",
       "      <td>1</td>\n",
       "      <td>0</td>\n",
       "      <td>0</td>\n",
       "    </tr>\n",
       "    <tr>\n",
       "      <th>entlebucher</th>\n",
       "      <td>2</td>\n",
       "      <td>11</td>\n",
       "      <td>21</td>\n",
       "      <td>0</td>\n",
       "      <td>0</td>\n",
       "      <td>1</td>\n",
       "      <td>2</td>\n",
       "      <td>2</td>\n",
       "    </tr>\n",
       "    <tr>\n",
       "      <th>great_pyrenees</th>\n",
       "      <td>5</td>\n",
       "      <td>2</td>\n",
       "      <td>2</td>\n",
       "      <td>8</td>\n",
       "      <td>4</td>\n",
       "      <td>5</td>\n",
       "      <td>3</td>\n",
       "      <td>3</td>\n",
       "    </tr>\n",
       "    <tr>\n",
       "      <th>maltese_dog</th>\n",
       "      <td>1</td>\n",
       "      <td>1</td>\n",
       "      <td>2</td>\n",
       "      <td>3</td>\n",
       "      <td>15</td>\n",
       "      <td>16</td>\n",
       "      <td>1</td>\n",
       "      <td>2</td>\n",
       "    </tr>\n",
       "    <tr>\n",
       "      <th>pomeranian</th>\n",
       "      <td>1</td>\n",
       "      <td>1</td>\n",
       "      <td>1</td>\n",
       "      <td>4</td>\n",
       "      <td>5</td>\n",
       "      <td>19</td>\n",
       "      <td>0</td>\n",
       "      <td>0</td>\n",
       "    </tr>\n",
       "    <tr>\n",
       "      <th>scottish_deerhound</th>\n",
       "      <td>6</td>\n",
       "      <td>2</td>\n",
       "      <td>2</td>\n",
       "      <td>4</td>\n",
       "      <td>2</td>\n",
       "      <td>8</td>\n",
       "      <td>12</td>\n",
       "      <td>1</td>\n",
       "    </tr>\n",
       "    <tr>\n",
       "      <th>shih-tzu</th>\n",
       "      <td>0</td>\n",
       "      <td>5</td>\n",
       "      <td>4</td>\n",
       "      <td>5</td>\n",
       "      <td>8</td>\n",
       "      <td>6</td>\n",
       "      <td>3</td>\n",
       "      <td>5</td>\n",
       "    </tr>\n",
       "  </tbody>\n",
       "</table>\n",
       "</div>"
      ],
      "text/plain": [
       "                      afghan_hound  bernese_mountain_dog  entlebucher  \\\n",
       "afghan_hound                    12                     1            2   \n",
       "bernese_mountain_dog             1                    22            6   \n",
       "entlebucher                      2                    11           21   \n",
       "great_pyrenees                   5                     2            2   \n",
       "maltese_dog                      1                     1            2   \n",
       "pomeranian                       1                     1            1   \n",
       "scottish_deerhound               6                     2            2   \n",
       "shih-tzu                         0                     5            4   \n",
       "\n",
       "                      great_pyrenees  maltese_dog  pomeranian  \\\n",
       "afghan_hound                       4            1           9   \n",
       "bernese_mountain_dog               0            0           1   \n",
       "entlebucher                        0            0           1   \n",
       "great_pyrenees                     8            4           5   \n",
       "maltese_dog                        3           15          16   \n",
       "pomeranian                         4            5          19   \n",
       "scottish_deerhound                 4            2           8   \n",
       "shih-tzu                           5            8           6   \n",
       "\n",
       "                      scottish_deerhound  shih-tzu  \n",
       "afghan_hound                           1         1  \n",
       "bernese_mountain_dog                   0         0  \n",
       "entlebucher                            2         2  \n",
       "great_pyrenees                         3         3  \n",
       "maltese_dog                            1         2  \n",
       "pomeranian                             0         0  \n",
       "scottish_deerhound                    12         1  \n",
       "shih-tzu                               3         5  "
      ]
     },
     "execution_count": 85,
     "metadata": {},
     "output_type": "execute_result"
    }
   ],
   "source": [
    "accuracy, recall, precision, conf_matrix = evaluate_model(model, X_train, y_train, X_test, y_test, labels_name)\n",
    "print(\"Accuracy:\", accuracy)\n",
    "print(\"Recall:\", recall)\n",
    "print(\"Precision:\", precision)\n",
    "conf_matrix"
   ]
  },
  {
   "cell_type": "markdown",
   "metadata": {},
   "source": [
    "### K-Fold Cross Validation"
   ]
  },
  {
   "cell_type": "code",
   "execution_count": 54,
   "metadata": {},
   "outputs": [
    {
     "name": "stdout",
     "output_type": "stream",
     "text": [
      "Training split: 1 of 5\n",
      "model_40x40_8breeds_0.3dropout_0.0005lr_500fc_20batch\n"
     ]
    },
    {
     "data": {
      "application/vnd.jupyter.widget-view+json": {
       "model_id": "e66a4c2f289e43bca914f096b73efe71",
       "version_major": 2,
       "version_minor": 0
      },
      "text/plain": [
       "HBox(children=(IntProgress(value=0, description='Training', max=50, style=ProgressStyle(description_width='ini…"
      ]
     },
     "metadata": {},
     "output_type": "display_data"
    },
    {
     "data": {
      "application/vnd.jupyter.widget-view+json": {
       "model_id": "",
       "version_major": 2,
       "version_minor": 0
      },
      "text/plain": [
       "HBox(children=(IntProgress(value=0, description='Epoch 0', max=737, style=ProgressStyle(description_width='ini…"
      ]
     },
     "metadata": {},
     "output_type": "display_data"
    },
    {
     "name": "stdout",
     "output_type": "stream",
     "text": [
      "\n",
      "Epoch 00001: val_loss improved from inf to 2.05521, saving model to models/model_40x40_8breeds_0.3dropout_0.0005lr_500fc_20batch.hdf5\n"
     ]
    },
    {
     "data": {
      "application/vnd.jupyter.widget-view+json": {
       "model_id": "",
       "version_major": 2,
       "version_minor": 0
      },
      "text/plain": [
       "HBox(children=(IntProgress(value=0, description='Epoch 1', max=737, style=ProgressStyle(description_width='ini…"
      ]
     },
     "metadata": {},
     "output_type": "display_data"
    },
    {
     "name": "stdout",
     "output_type": "stream",
     "text": [
      "\n",
      "Epoch 00002: val_loss improved from 2.05521 to 1.94423, saving model to models/model_40x40_8breeds_0.3dropout_0.0005lr_500fc_20batch.hdf5\n"
     ]
    },
    {
     "data": {
      "application/vnd.jupyter.widget-view+json": {
       "model_id": "",
       "version_major": 2,
       "version_minor": 0
      },
      "text/plain": [
       "HBox(children=(IntProgress(value=0, description='Epoch 2', max=737, style=ProgressStyle(description_width='ini…"
      ]
     },
     "metadata": {},
     "output_type": "display_data"
    },
    {
     "name": "stdout",
     "output_type": "stream",
     "text": [
      "\n",
      "Epoch 00003: val_loss improved from 1.94423 to 1.80165, saving model to models/model_40x40_8breeds_0.3dropout_0.0005lr_500fc_20batch.hdf5\n"
     ]
    },
    {
     "data": {
      "application/vnd.jupyter.widget-view+json": {
       "model_id": "",
       "version_major": 2,
       "version_minor": 0
      },
      "text/plain": [
       "HBox(children=(IntProgress(value=0, description='Epoch 3', max=737, style=ProgressStyle(description_width='ini…"
      ]
     },
     "metadata": {},
     "output_type": "display_data"
    },
    {
     "name": "stdout",
     "output_type": "stream",
     "text": [
      "\n",
      "Epoch 00004: val_loss did not improve from 1.80165\n"
     ]
    },
    {
     "data": {
      "application/vnd.jupyter.widget-view+json": {
       "model_id": "",
       "version_major": 2,
       "version_minor": 0
      },
      "text/plain": [
       "HBox(children=(IntProgress(value=0, description='Epoch 4', max=737, style=ProgressStyle(description_width='ini…"
      ]
     },
     "metadata": {},
     "output_type": "display_data"
    },
    {
     "name": "stdout",
     "output_type": "stream",
     "text": [
      "\n",
      "Epoch 00005: val_loss improved from 1.80165 to 1.78992, saving model to models/model_40x40_8breeds_0.3dropout_0.0005lr_500fc_20batch.hdf5\n"
     ]
    },
    {
     "data": {
      "application/vnd.jupyter.widget-view+json": {
       "model_id": "",
       "version_major": 2,
       "version_minor": 0
      },
      "text/plain": [
       "HBox(children=(IntProgress(value=0, description='Epoch 5', max=737, style=ProgressStyle(description_width='ini…"
      ]
     },
     "metadata": {},
     "output_type": "display_data"
    },
    {
     "name": "stdout",
     "output_type": "stream",
     "text": [
      "\n",
      "Epoch 00006: val_loss did not improve from 1.78992\n"
     ]
    },
    {
     "data": {
      "application/vnd.jupyter.widget-view+json": {
       "model_id": "",
       "version_major": 2,
       "version_minor": 0
      },
      "text/plain": [
       "HBox(children=(IntProgress(value=0, description='Epoch 6', max=737, style=ProgressStyle(description_width='ini…"
      ]
     },
     "metadata": {},
     "output_type": "display_data"
    },
    {
     "name": "stdout",
     "output_type": "stream",
     "text": [
      "\n",
      "Epoch 00007: val_loss improved from 1.78992 to 1.78533, saving model to models/model_40x40_8breeds_0.3dropout_0.0005lr_500fc_20batch.hdf5\n"
     ]
    },
    {
     "data": {
      "application/vnd.jupyter.widget-view+json": {
       "model_id": "",
       "version_major": 2,
       "version_minor": 0
      },
      "text/plain": [
       "HBox(children=(IntProgress(value=0, description='Epoch 7', max=737, style=ProgressStyle(description_width='ini…"
      ]
     },
     "metadata": {},
     "output_type": "display_data"
    },
    {
     "name": "stdout",
     "output_type": "stream",
     "text": [
      "\n",
      "Epoch 00008: val_loss improved from 1.78533 to 1.77383, saving model to models/model_40x40_8breeds_0.3dropout_0.0005lr_500fc_20batch.hdf5\n"
     ]
    },
    {
     "data": {
      "application/vnd.jupyter.widget-view+json": {
       "model_id": "",
       "version_major": 2,
       "version_minor": 0
      },
      "text/plain": [
       "HBox(children=(IntProgress(value=0, description='Epoch 8', max=737, style=ProgressStyle(description_width='ini…"
      ]
     },
     "metadata": {},
     "output_type": "display_data"
    },
    {
     "name": "stdout",
     "output_type": "stream",
     "text": [
      "\n",
      "Epoch 00009: val_loss did not improve from 1.77383\n"
     ]
    },
    {
     "data": {
      "application/vnd.jupyter.widget-view+json": {
       "model_id": "",
       "version_major": 2,
       "version_minor": 0
      },
      "text/plain": [
       "HBox(children=(IntProgress(value=0, description='Epoch 9', max=737, style=ProgressStyle(description_width='ini…"
      ]
     },
     "metadata": {},
     "output_type": "display_data"
    },
    {
     "name": "stdout",
     "output_type": "stream",
     "text": [
      "\n",
      "Epoch 00010: val_loss improved from 1.77383 to 1.76658, saving model to models/model_40x40_8breeds_0.3dropout_0.0005lr_500fc_20batch.hdf5\n"
     ]
    },
    {
     "data": {
      "application/vnd.jupyter.widget-view+json": {
       "model_id": "",
       "version_major": 2,
       "version_minor": 0
      },
      "text/plain": [
       "HBox(children=(IntProgress(value=0, description='Epoch 10', max=737, style=ProgressStyle(description_width='in…"
      ]
     },
     "metadata": {},
     "output_type": "display_data"
    },
    {
     "name": "stdout",
     "output_type": "stream",
     "text": [
      "\n",
      "Epoch 00011: val_loss did not improve from 1.76658\n"
     ]
    },
    {
     "data": {
      "application/vnd.jupyter.widget-view+json": {
       "model_id": "",
       "version_major": 2,
       "version_minor": 0
      },
      "text/plain": [
       "HBox(children=(IntProgress(value=0, description='Epoch 11', max=737, style=ProgressStyle(description_width='in…"
      ]
     },
     "metadata": {},
     "output_type": "display_data"
    },
    {
     "name": "stdout",
     "output_type": "stream",
     "text": [
      "\n",
      "Epoch 00012: val_loss did not improve from 1.76658\n"
     ]
    },
    {
     "data": {
      "application/vnd.jupyter.widget-view+json": {
       "model_id": "",
       "version_major": 2,
       "version_minor": 0
      },
      "text/plain": [
       "HBox(children=(IntProgress(value=0, description='Epoch 12', max=737, style=ProgressStyle(description_width='in…"
      ]
     },
     "metadata": {},
     "output_type": "display_data"
    },
    {
     "name": "stdout",
     "output_type": "stream",
     "text": [
      "\n",
      "Epoch 00013: val_loss did not improve from 1.76658\n"
     ]
    },
    {
     "data": {
      "application/vnd.jupyter.widget-view+json": {
       "model_id": "",
       "version_major": 2,
       "version_minor": 0
      },
      "text/plain": [
       "HBox(children=(IntProgress(value=0, description='Epoch 13', max=737, style=ProgressStyle(description_width='in…"
      ]
     },
     "metadata": {},
     "output_type": "display_data"
    },
    {
     "name": "stdout",
     "output_type": "stream",
     "text": [
      "\n",
      "Epoch 00014: val_loss did not improve from 1.76658\n"
     ]
    },
    {
     "data": {
      "application/vnd.jupyter.widget-view+json": {
       "model_id": "",
       "version_major": 2,
       "version_minor": 0
      },
      "text/plain": [
       "HBox(children=(IntProgress(value=0, description='Epoch 14', max=737, style=ProgressStyle(description_width='in…"
      ]
     },
     "metadata": {},
     "output_type": "display_data"
    },
    {
     "name": "stdout",
     "output_type": "stream",
     "text": [
      "\n",
      "Epoch 00015: val_loss did not improve from 1.76658\n",
      "Epoch 00015: early stopping\n",
      "\n",
      "Evaluating split: 1 of 5\n",
      "Recording metrics: 1 of 5\n",
      "\n",
      "\n",
      "Training split: 2 of 5\n",
      "model_40x40_8breeds_0.3dropout_0.0005lr_500fc_20batch\n"
     ]
    },
    {
     "data": {
      "application/vnd.jupyter.widget-view+json": {
       "model_id": "0b5be9c9293643898e90d38c114b1a0d",
       "version_major": 2,
       "version_minor": 0
      },
      "text/plain": [
       "HBox(children=(IntProgress(value=0, description='Training', max=50, style=ProgressStyle(description_width='ini…"
      ]
     },
     "metadata": {},
     "output_type": "display_data"
    },
    {
     "data": {
      "application/vnd.jupyter.widget-view+json": {
       "model_id": "",
       "version_major": 2,
       "version_minor": 0
      },
      "text/plain": [
       "HBox(children=(IntProgress(value=0, description='Epoch 0', max=737, style=ProgressStyle(description_width='ini…"
      ]
     },
     "metadata": {},
     "output_type": "display_data"
    },
    {
     "name": "stdout",
     "output_type": "stream",
     "text": [
      "\n",
      "Epoch 00001: val_loss improved from inf to 2.06630, saving model to models/model_40x40_8breeds_0.3dropout_0.0005lr_500fc_20batch.hdf5\n"
     ]
    },
    {
     "data": {
      "application/vnd.jupyter.widget-view+json": {
       "model_id": "",
       "version_major": 2,
       "version_minor": 0
      },
      "text/plain": [
       "HBox(children=(IntProgress(value=0, description='Epoch 1', max=737, style=ProgressStyle(description_width='ini…"
      ]
     },
     "metadata": {},
     "output_type": "display_data"
    },
    {
     "name": "stdout",
     "output_type": "stream",
     "text": [
      "\n",
      "Epoch 00002: val_loss improved from 2.06630 to 1.85882, saving model to models/model_40x40_8breeds_0.3dropout_0.0005lr_500fc_20batch.hdf5\n"
     ]
    },
    {
     "data": {
      "application/vnd.jupyter.widget-view+json": {
       "model_id": "",
       "version_major": 2,
       "version_minor": 0
      },
      "text/plain": [
       "HBox(children=(IntProgress(value=0, description='Epoch 2', max=737, style=ProgressStyle(description_width='ini…"
      ]
     },
     "metadata": {},
     "output_type": "display_data"
    },
    {
     "name": "stdout",
     "output_type": "stream",
     "text": [
      "\n",
      "Epoch 00003: val_loss improved from 1.85882 to 1.80713, saving model to models/model_40x40_8breeds_0.3dropout_0.0005lr_500fc_20batch.hdf5\n"
     ]
    },
    {
     "data": {
      "application/vnd.jupyter.widget-view+json": {
       "model_id": "",
       "version_major": 2,
       "version_minor": 0
      },
      "text/plain": [
       "HBox(children=(IntProgress(value=0, description='Epoch 3', max=737, style=ProgressStyle(description_width='ini…"
      ]
     },
     "metadata": {},
     "output_type": "display_data"
    },
    {
     "name": "stdout",
     "output_type": "stream",
     "text": [
      "\n",
      "Epoch 00004: val_loss improved from 1.80713 to 1.74157, saving model to models/model_40x40_8breeds_0.3dropout_0.0005lr_500fc_20batch.hdf5\n"
     ]
    },
    {
     "data": {
      "application/vnd.jupyter.widget-view+json": {
       "model_id": "",
       "version_major": 2,
       "version_minor": 0
      },
      "text/plain": [
       "HBox(children=(IntProgress(value=0, description='Epoch 4', max=737, style=ProgressStyle(description_width='ini…"
      ]
     },
     "metadata": {},
     "output_type": "display_data"
    },
    {
     "name": "stdout",
     "output_type": "stream",
     "text": [
      "\n",
      "Epoch 00005: val_loss improved from 1.74157 to 1.68323, saving model to models/model_40x40_8breeds_0.3dropout_0.0005lr_500fc_20batch.hdf5\n"
     ]
    },
    {
     "data": {
      "application/vnd.jupyter.widget-view+json": {
       "model_id": "",
       "version_major": 2,
       "version_minor": 0
      },
      "text/plain": [
       "HBox(children=(IntProgress(value=0, description='Epoch 5', max=737, style=ProgressStyle(description_width='ini…"
      ]
     },
     "metadata": {},
     "output_type": "display_data"
    },
    {
     "name": "stdout",
     "output_type": "stream",
     "text": [
      "\n",
      "Epoch 00006: val_loss improved from 1.68323 to 1.59082, saving model to models/model_40x40_8breeds_0.3dropout_0.0005lr_500fc_20batch.hdf5\n"
     ]
    },
    {
     "data": {
      "application/vnd.jupyter.widget-view+json": {
       "model_id": "",
       "version_major": 2,
       "version_minor": 0
      },
      "text/plain": [
       "HBox(children=(IntProgress(value=0, description='Epoch 6', max=737, style=ProgressStyle(description_width='ini…"
      ]
     },
     "metadata": {},
     "output_type": "display_data"
    },
    {
     "name": "stdout",
     "output_type": "stream",
     "text": [
      "\n",
      "Epoch 00007: val_loss improved from 1.59082 to 1.55089, saving model to models/model_40x40_8breeds_0.3dropout_0.0005lr_500fc_20batch.hdf5\n"
     ]
    },
    {
     "data": {
      "application/vnd.jupyter.widget-view+json": {
       "model_id": "",
       "version_major": 2,
       "version_minor": 0
      },
      "text/plain": [
       "HBox(children=(IntProgress(value=0, description='Epoch 7', max=737, style=ProgressStyle(description_width='ini…"
      ]
     },
     "metadata": {},
     "output_type": "display_data"
    },
    {
     "name": "stdout",
     "output_type": "stream",
     "text": [
      "\n",
      "Epoch 00008: val_loss improved from 1.55089 to 1.51840, saving model to models/model_40x40_8breeds_0.3dropout_0.0005lr_500fc_20batch.hdf5\n"
     ]
    },
    {
     "data": {
      "application/vnd.jupyter.widget-view+json": {
       "model_id": "",
       "version_major": 2,
       "version_minor": 0
      },
      "text/plain": [
       "HBox(children=(IntProgress(value=0, description='Epoch 8', max=737, style=ProgressStyle(description_width='ini…"
      ]
     },
     "metadata": {},
     "output_type": "display_data"
    },
    {
     "name": "stdout",
     "output_type": "stream",
     "text": [
      "\n",
      "Epoch 00009: val_loss improved from 1.51840 to 1.51351, saving model to models/model_40x40_8breeds_0.3dropout_0.0005lr_500fc_20batch.hdf5\n"
     ]
    },
    {
     "data": {
      "application/vnd.jupyter.widget-view+json": {
       "model_id": "",
       "version_major": 2,
       "version_minor": 0
      },
      "text/plain": [
       "HBox(children=(IntProgress(value=0, description='Epoch 9', max=737, style=ProgressStyle(description_width='ini…"
      ]
     },
     "metadata": {},
     "output_type": "display_data"
    },
    {
     "name": "stdout",
     "output_type": "stream",
     "text": [
      "\n",
      "Epoch 00010: val_loss did not improve from 1.51351\n"
     ]
    },
    {
     "data": {
      "application/vnd.jupyter.widget-view+json": {
       "model_id": "",
       "version_major": 2,
       "version_minor": 0
      },
      "text/plain": [
       "HBox(children=(IntProgress(value=0, description='Epoch 10', max=737, style=ProgressStyle(description_width='in…"
      ]
     },
     "metadata": {},
     "output_type": "display_data"
    },
    {
     "name": "stdout",
     "output_type": "stream",
     "text": [
      "\n",
      "Epoch 00011: val_loss improved from 1.51351 to 1.47884, saving model to models/model_40x40_8breeds_0.3dropout_0.0005lr_500fc_20batch.hdf5\n"
     ]
    },
    {
     "data": {
      "application/vnd.jupyter.widget-view+json": {
       "model_id": "",
       "version_major": 2,
       "version_minor": 0
      },
      "text/plain": [
       "HBox(children=(IntProgress(value=0, description='Epoch 11', max=737, style=ProgressStyle(description_width='in…"
      ]
     },
     "metadata": {},
     "output_type": "display_data"
    },
    {
     "name": "stdout",
     "output_type": "stream",
     "text": [
      "\n",
      "Epoch 00012: val_loss did not improve from 1.47884\n"
     ]
    },
    {
     "data": {
      "application/vnd.jupyter.widget-view+json": {
       "model_id": "",
       "version_major": 2,
       "version_minor": 0
      },
      "text/plain": [
       "HBox(children=(IntProgress(value=0, description='Epoch 12', max=737, style=ProgressStyle(description_width='in…"
      ]
     },
     "metadata": {},
     "output_type": "display_data"
    },
    {
     "name": "stdout",
     "output_type": "stream",
     "text": [
      "\n",
      "Epoch 00013: val_loss did not improve from 1.47884\n"
     ]
    },
    {
     "data": {
      "application/vnd.jupyter.widget-view+json": {
       "model_id": "",
       "version_major": 2,
       "version_minor": 0
      },
      "text/plain": [
       "HBox(children=(IntProgress(value=0, description='Epoch 13', max=737, style=ProgressStyle(description_width='in…"
      ]
     },
     "metadata": {},
     "output_type": "display_data"
    },
    {
     "name": "stdout",
     "output_type": "stream",
     "text": [
      "\n",
      "Epoch 00014: val_loss did not improve from 1.47884\n"
     ]
    },
    {
     "data": {
      "application/vnd.jupyter.widget-view+json": {
       "model_id": "",
       "version_major": 2,
       "version_minor": 0
      },
      "text/plain": [
       "HBox(children=(IntProgress(value=0, description='Epoch 14', max=737, style=ProgressStyle(description_width='in…"
      ]
     },
     "metadata": {},
     "output_type": "display_data"
    },
    {
     "name": "stdout",
     "output_type": "stream",
     "text": [
      "\n",
      "Epoch 00015: val_loss improved from 1.47884 to 1.47601, saving model to models/model_40x40_8breeds_0.3dropout_0.0005lr_500fc_20batch.hdf5\n"
     ]
    },
    {
     "data": {
      "application/vnd.jupyter.widget-view+json": {
       "model_id": "",
       "version_major": 2,
       "version_minor": 0
      },
      "text/plain": [
       "HBox(children=(IntProgress(value=0, description='Epoch 15', max=737, style=ProgressStyle(description_width='in…"
      ]
     },
     "metadata": {},
     "output_type": "display_data"
    },
    {
     "name": "stdout",
     "output_type": "stream",
     "text": [
      "\n",
      "Epoch 00016: val_loss did not improve from 1.47601\n"
     ]
    },
    {
     "data": {
      "application/vnd.jupyter.widget-view+json": {
       "model_id": "",
       "version_major": 2,
       "version_minor": 0
      },
      "text/plain": [
       "HBox(children=(IntProgress(value=0, description='Epoch 16', max=737, style=ProgressStyle(description_width='in…"
      ]
     },
     "metadata": {},
     "output_type": "display_data"
    },
    {
     "name": "stdout",
     "output_type": "stream",
     "text": [
      "\n",
      "Epoch 00017: val_loss did not improve from 1.47601\n"
     ]
    },
    {
     "data": {
      "application/vnd.jupyter.widget-view+json": {
       "model_id": "",
       "version_major": 2,
       "version_minor": 0
      },
      "text/plain": [
       "HBox(children=(IntProgress(value=0, description='Epoch 17', max=737, style=ProgressStyle(description_width='in…"
      ]
     },
     "metadata": {},
     "output_type": "display_data"
    },
    {
     "name": "stdout",
     "output_type": "stream",
     "text": [
      "\n",
      "Epoch 00018: val_loss did not improve from 1.47601\n"
     ]
    },
    {
     "data": {
      "application/vnd.jupyter.widget-view+json": {
       "model_id": "",
       "version_major": 2,
       "version_minor": 0
      },
      "text/plain": [
       "HBox(children=(IntProgress(value=0, description='Epoch 18', max=737, style=ProgressStyle(description_width='in…"
      ]
     },
     "metadata": {},
     "output_type": "display_data"
    },
    {
     "name": "stdout",
     "output_type": "stream",
     "text": [
      "\n",
      "Epoch 00019: val_loss did not improve from 1.47601\n"
     ]
    },
    {
     "data": {
      "application/vnd.jupyter.widget-view+json": {
       "model_id": "",
       "version_major": 2,
       "version_minor": 0
      },
      "text/plain": [
       "HBox(children=(IntProgress(value=0, description='Epoch 19', max=737, style=ProgressStyle(description_width='in…"
      ]
     },
     "metadata": {},
     "output_type": "display_data"
    },
    {
     "name": "stdout",
     "output_type": "stream",
     "text": [
      "\n",
      "Epoch 00020: val_loss did not improve from 1.47601\n",
      "Epoch 00020: early stopping\n",
      "\n",
      "Evaluating split: 2 of 5\n",
      "Recording metrics: 2 of 5\n",
      "\n",
      "\n",
      "Training split: 3 of 5\n",
      "model_40x40_8breeds_0.3dropout_0.0005lr_500fc_20batch\n"
     ]
    },
    {
     "data": {
      "application/vnd.jupyter.widget-view+json": {
       "model_id": "a9caa114a2704db6aa11ee83ef6ddd3d",
       "version_major": 2,
       "version_minor": 0
      },
      "text/plain": [
       "HBox(children=(IntProgress(value=0, description='Training', max=50, style=ProgressStyle(description_width='ini…"
      ]
     },
     "metadata": {},
     "output_type": "display_data"
    },
    {
     "data": {
      "application/vnd.jupyter.widget-view+json": {
       "model_id": "",
       "version_major": 2,
       "version_minor": 0
      },
      "text/plain": [
       "HBox(children=(IntProgress(value=0, description='Epoch 0', max=738, style=ProgressStyle(description_width='ini…"
      ]
     },
     "metadata": {},
     "output_type": "display_data"
    },
    {
     "name": "stdout",
     "output_type": "stream",
     "text": [
      "\n",
      "Epoch 00001: val_loss improved from inf to 2.07842, saving model to models/model_40x40_8breeds_0.3dropout_0.0005lr_500fc_20batch.hdf5\n"
     ]
    },
    {
     "data": {
      "application/vnd.jupyter.widget-view+json": {
       "model_id": "",
       "version_major": 2,
       "version_minor": 0
      },
      "text/plain": [
       "HBox(children=(IntProgress(value=0, description='Epoch 1', max=738, style=ProgressStyle(description_width='ini…"
      ]
     },
     "metadata": {},
     "output_type": "display_data"
    },
    {
     "name": "stdout",
     "output_type": "stream",
     "text": [
      "\n",
      "Epoch 00002: val_loss improved from 2.07842 to 1.94000, saving model to models/model_40x40_8breeds_0.3dropout_0.0005lr_500fc_20batch.hdf5\n"
     ]
    },
    {
     "data": {
      "application/vnd.jupyter.widget-view+json": {
       "model_id": "",
       "version_major": 2,
       "version_minor": 0
      },
      "text/plain": [
       "HBox(children=(IntProgress(value=0, description='Epoch 2', max=738, style=ProgressStyle(description_width='ini…"
      ]
     },
     "metadata": {},
     "output_type": "display_data"
    },
    {
     "name": "stdout",
     "output_type": "stream",
     "text": [
      "\n",
      "Epoch 00003: val_loss improved from 1.94000 to 1.87163, saving model to models/model_40x40_8breeds_0.3dropout_0.0005lr_500fc_20batch.hdf5\n"
     ]
    },
    {
     "data": {
      "application/vnd.jupyter.widget-view+json": {
       "model_id": "",
       "version_major": 2,
       "version_minor": 0
      },
      "text/plain": [
       "HBox(children=(IntProgress(value=0, description='Epoch 3', max=738, style=ProgressStyle(description_width='ini…"
      ]
     },
     "metadata": {},
     "output_type": "display_data"
    },
    {
     "name": "stdout",
     "output_type": "stream",
     "text": [
      "\n",
      "Epoch 00004: val_loss improved from 1.87163 to 1.82452, saving model to models/model_40x40_8breeds_0.3dropout_0.0005lr_500fc_20batch.hdf5\n"
     ]
    },
    {
     "data": {
      "application/vnd.jupyter.widget-view+json": {
       "model_id": "",
       "version_major": 2,
       "version_minor": 0
      },
      "text/plain": [
       "HBox(children=(IntProgress(value=0, description='Epoch 4', max=738, style=ProgressStyle(description_width='ini…"
      ]
     },
     "metadata": {},
     "output_type": "display_data"
    },
    {
     "name": "stdout",
     "output_type": "stream",
     "text": [
      "\n",
      "Epoch 00005: val_loss improved from 1.82452 to 1.70263, saving model to models/model_40x40_8breeds_0.3dropout_0.0005lr_500fc_20batch.hdf5\n"
     ]
    },
    {
     "data": {
      "application/vnd.jupyter.widget-view+json": {
       "model_id": "",
       "version_major": 2,
       "version_minor": 0
      },
      "text/plain": [
       "HBox(children=(IntProgress(value=0, description='Epoch 5', max=738, style=ProgressStyle(description_width='ini…"
      ]
     },
     "metadata": {},
     "output_type": "display_data"
    },
    {
     "name": "stdout",
     "output_type": "stream",
     "text": [
      "\n",
      "Epoch 00006: val_loss did not improve from 1.70263\n"
     ]
    },
    {
     "data": {
      "application/vnd.jupyter.widget-view+json": {
       "model_id": "",
       "version_major": 2,
       "version_minor": 0
      },
      "text/plain": [
       "HBox(children=(IntProgress(value=0, description='Epoch 6', max=738, style=ProgressStyle(description_width='ini…"
      ]
     },
     "metadata": {},
     "output_type": "display_data"
    },
    {
     "name": "stdout",
     "output_type": "stream",
     "text": [
      "\n",
      "Epoch 00007: val_loss did not improve from 1.70263\n"
     ]
    },
    {
     "data": {
      "application/vnd.jupyter.widget-view+json": {
       "model_id": "",
       "version_major": 2,
       "version_minor": 0
      },
      "text/plain": [
       "HBox(children=(IntProgress(value=0, description='Epoch 7', max=738, style=ProgressStyle(description_width='ini…"
      ]
     },
     "metadata": {},
     "output_type": "display_data"
    },
    {
     "name": "stdout",
     "output_type": "stream",
     "text": [
      "\n",
      "Epoch 00008: val_loss did not improve from 1.70263\n"
     ]
    },
    {
     "data": {
      "application/vnd.jupyter.widget-view+json": {
       "model_id": "",
       "version_major": 2,
       "version_minor": 0
      },
      "text/plain": [
       "HBox(children=(IntProgress(value=0, description='Epoch 8', max=738, style=ProgressStyle(description_width='ini…"
      ]
     },
     "metadata": {},
     "output_type": "display_data"
    },
    {
     "name": "stdout",
     "output_type": "stream",
     "text": [
      "\n",
      "Epoch 00009: val_loss improved from 1.70263 to 1.63880, saving model to models/model_40x40_8breeds_0.3dropout_0.0005lr_500fc_20batch.hdf5\n"
     ]
    },
    {
     "data": {
      "application/vnd.jupyter.widget-view+json": {
       "model_id": "",
       "version_major": 2,
       "version_minor": 0
      },
      "text/plain": [
       "HBox(children=(IntProgress(value=0, description='Epoch 9', max=738, style=ProgressStyle(description_width='ini…"
      ]
     },
     "metadata": {},
     "output_type": "display_data"
    },
    {
     "name": "stdout",
     "output_type": "stream",
     "text": [
      "\n",
      "Epoch 00010: val_loss improved from 1.63880 to 1.62767, saving model to models/model_40x40_8breeds_0.3dropout_0.0005lr_500fc_20batch.hdf5\n"
     ]
    },
    {
     "data": {
      "application/vnd.jupyter.widget-view+json": {
       "model_id": "",
       "version_major": 2,
       "version_minor": 0
      },
      "text/plain": [
       "HBox(children=(IntProgress(value=0, description='Epoch 10', max=738, style=ProgressStyle(description_width='in…"
      ]
     },
     "metadata": {},
     "output_type": "display_data"
    },
    {
     "name": "stdout",
     "output_type": "stream",
     "text": [
      "\n",
      "Epoch 00011: val_loss did not improve from 1.62767\n"
     ]
    },
    {
     "data": {
      "application/vnd.jupyter.widget-view+json": {
       "model_id": "",
       "version_major": 2,
       "version_minor": 0
      },
      "text/plain": [
       "HBox(children=(IntProgress(value=0, description='Epoch 11', max=738, style=ProgressStyle(description_width='in…"
      ]
     },
     "metadata": {},
     "output_type": "display_data"
    },
    {
     "name": "stdout",
     "output_type": "stream",
     "text": [
      "\n",
      "Epoch 00012: val_loss did not improve from 1.62767\n"
     ]
    },
    {
     "data": {
      "application/vnd.jupyter.widget-view+json": {
       "model_id": "",
       "version_major": 2,
       "version_minor": 0
      },
      "text/plain": [
       "HBox(children=(IntProgress(value=0, description='Epoch 12', max=738, style=ProgressStyle(description_width='in…"
      ]
     },
     "metadata": {},
     "output_type": "display_data"
    },
    {
     "name": "stdout",
     "output_type": "stream",
     "text": [
      "\n",
      "Epoch 00013: val_loss did not improve from 1.62767\n"
     ]
    },
    {
     "data": {
      "application/vnd.jupyter.widget-view+json": {
       "model_id": "",
       "version_major": 2,
       "version_minor": 0
      },
      "text/plain": [
       "HBox(children=(IntProgress(value=0, description='Epoch 13', max=738, style=ProgressStyle(description_width='in…"
      ]
     },
     "metadata": {},
     "output_type": "display_data"
    },
    {
     "name": "stdout",
     "output_type": "stream",
     "text": [
      "\n",
      "Epoch 00014: val_loss did not improve from 1.62767\n"
     ]
    },
    {
     "data": {
      "application/vnd.jupyter.widget-view+json": {
       "model_id": "",
       "version_major": 2,
       "version_minor": 0
      },
      "text/plain": [
       "HBox(children=(IntProgress(value=0, description='Epoch 14', max=738, style=ProgressStyle(description_width='in…"
      ]
     },
     "metadata": {},
     "output_type": "display_data"
    },
    {
     "name": "stdout",
     "output_type": "stream",
     "text": [
      "\n",
      "Epoch 00015: val_loss did not improve from 1.62767\n",
      "Epoch 00015: early stopping\n",
      "\n",
      "Evaluating split: 3 of 5\n",
      "Recording metrics: 3 of 5\n",
      "\n",
      "\n",
      "Training split: 4 of 5\n",
      "model_40x40_8breeds_0.3dropout_0.0005lr_500fc_20batch\n"
     ]
    },
    {
     "data": {
      "application/vnd.jupyter.widget-view+json": {
       "model_id": "951db833838f4a4bb4267bba14e950e8",
       "version_major": 2,
       "version_minor": 0
      },
      "text/plain": [
       "HBox(children=(IntProgress(value=0, description='Training', max=50, style=ProgressStyle(description_width='ini…"
      ]
     },
     "metadata": {},
     "output_type": "display_data"
    },
    {
     "data": {
      "application/vnd.jupyter.widget-view+json": {
       "model_id": "",
       "version_major": 2,
       "version_minor": 0
      },
      "text/plain": [
       "HBox(children=(IntProgress(value=0, description='Epoch 0', max=738, style=ProgressStyle(description_width='ini…"
      ]
     },
     "metadata": {},
     "output_type": "display_data"
    },
    {
     "name": "stdout",
     "output_type": "stream",
     "text": [
      "\n",
      "Epoch 00001: val_loss improved from inf to 2.06684, saving model to models/model_40x40_8breeds_0.3dropout_0.0005lr_500fc_20batch.hdf5\n"
     ]
    },
    {
     "data": {
      "application/vnd.jupyter.widget-view+json": {
       "model_id": "",
       "version_major": 2,
       "version_minor": 0
      },
      "text/plain": [
       "HBox(children=(IntProgress(value=0, description='Epoch 1', max=738, style=ProgressStyle(description_width='ini…"
      ]
     },
     "metadata": {},
     "output_type": "display_data"
    },
    {
     "name": "stdout",
     "output_type": "stream",
     "text": [
      "\n",
      "Epoch 00002: val_loss improved from 2.06684 to 1.95074, saving model to models/model_40x40_8breeds_0.3dropout_0.0005lr_500fc_20batch.hdf5\n"
     ]
    },
    {
     "data": {
      "application/vnd.jupyter.widget-view+json": {
       "model_id": "",
       "version_major": 2,
       "version_minor": 0
      },
      "text/plain": [
       "HBox(children=(IntProgress(value=0, description='Epoch 2', max=738, style=ProgressStyle(description_width='ini…"
      ]
     },
     "metadata": {},
     "output_type": "display_data"
    },
    {
     "name": "stdout",
     "output_type": "stream",
     "text": [
      "\n",
      "Epoch 00003: val_loss improved from 1.95074 to 1.82183, saving model to models/model_40x40_8breeds_0.3dropout_0.0005lr_500fc_20batch.hdf5\n"
     ]
    },
    {
     "data": {
      "application/vnd.jupyter.widget-view+json": {
       "model_id": "",
       "version_major": 2,
       "version_minor": 0
      },
      "text/plain": [
       "HBox(children=(IntProgress(value=0, description='Epoch 3', max=738, style=ProgressStyle(description_width='ini…"
      ]
     },
     "metadata": {},
     "output_type": "display_data"
    },
    {
     "name": "stdout",
     "output_type": "stream",
     "text": [
      "\n",
      "Epoch 00004: val_loss improved from 1.82183 to 1.79345, saving model to models/model_40x40_8breeds_0.3dropout_0.0005lr_500fc_20batch.hdf5\n"
     ]
    },
    {
     "data": {
      "application/vnd.jupyter.widget-view+json": {
       "model_id": "",
       "version_major": 2,
       "version_minor": 0
      },
      "text/plain": [
       "HBox(children=(IntProgress(value=0, description='Epoch 4', max=738, style=ProgressStyle(description_width='ini…"
      ]
     },
     "metadata": {},
     "output_type": "display_data"
    },
    {
     "name": "stdout",
     "output_type": "stream",
     "text": [
      "\n",
      "Epoch 00005: val_loss improved from 1.79345 to 1.74340, saving model to models/model_40x40_8breeds_0.3dropout_0.0005lr_500fc_20batch.hdf5\n"
     ]
    },
    {
     "data": {
      "application/vnd.jupyter.widget-view+json": {
       "model_id": "",
       "version_major": 2,
       "version_minor": 0
      },
      "text/plain": [
       "HBox(children=(IntProgress(value=0, description='Epoch 5', max=738, style=ProgressStyle(description_width='ini…"
      ]
     },
     "metadata": {},
     "output_type": "display_data"
    },
    {
     "name": "stdout",
     "output_type": "stream",
     "text": [
      "\n",
      "Epoch 00006: val_loss did not improve from 1.74340\n"
     ]
    },
    {
     "data": {
      "application/vnd.jupyter.widget-view+json": {
       "model_id": "",
       "version_major": 2,
       "version_minor": 0
      },
      "text/plain": [
       "HBox(children=(IntProgress(value=0, description='Epoch 6', max=738, style=ProgressStyle(description_width='ini…"
      ]
     },
     "metadata": {},
     "output_type": "display_data"
    },
    {
     "name": "stdout",
     "output_type": "stream",
     "text": [
      "\n",
      "Epoch 00007: val_loss improved from 1.74340 to 1.64286, saving model to models/model_40x40_8breeds_0.3dropout_0.0005lr_500fc_20batch.hdf5\n"
     ]
    },
    {
     "data": {
      "application/vnd.jupyter.widget-view+json": {
       "model_id": "",
       "version_major": 2,
       "version_minor": 0
      },
      "text/plain": [
       "HBox(children=(IntProgress(value=0, description='Epoch 7', max=738, style=ProgressStyle(description_width='ini…"
      ]
     },
     "metadata": {},
     "output_type": "display_data"
    },
    {
     "name": "stdout",
     "output_type": "stream",
     "text": [
      "\n",
      "Epoch 00008: val_loss did not improve from 1.64286\n"
     ]
    },
    {
     "data": {
      "application/vnd.jupyter.widget-view+json": {
       "model_id": "",
       "version_major": 2,
       "version_minor": 0
      },
      "text/plain": [
       "HBox(children=(IntProgress(value=0, description='Epoch 8', max=738, style=ProgressStyle(description_width='ini…"
      ]
     },
     "metadata": {},
     "output_type": "display_data"
    },
    {
     "name": "stdout",
     "output_type": "stream",
     "text": [
      "\n",
      "Epoch 00009: val_loss improved from 1.64286 to 1.62606, saving model to models/model_40x40_8breeds_0.3dropout_0.0005lr_500fc_20batch.hdf5\n"
     ]
    },
    {
     "data": {
      "application/vnd.jupyter.widget-view+json": {
       "model_id": "",
       "version_major": 2,
       "version_minor": 0
      },
      "text/plain": [
       "HBox(children=(IntProgress(value=0, description='Epoch 9', max=738, style=ProgressStyle(description_width='ini…"
      ]
     },
     "metadata": {},
     "output_type": "display_data"
    },
    {
     "name": "stdout",
     "output_type": "stream",
     "text": [
      "\n",
      "Epoch 00010: val_loss did not improve from 1.62606\n"
     ]
    },
    {
     "data": {
      "application/vnd.jupyter.widget-view+json": {
       "model_id": "",
       "version_major": 2,
       "version_minor": 0
      },
      "text/plain": [
       "HBox(children=(IntProgress(value=0, description='Epoch 10', max=738, style=ProgressStyle(description_width='in…"
      ]
     },
     "metadata": {},
     "output_type": "display_data"
    },
    {
     "name": "stdout",
     "output_type": "stream",
     "text": [
      "\n",
      "Epoch 00011: val_loss did not improve from 1.62606\n"
     ]
    },
    {
     "data": {
      "application/vnd.jupyter.widget-view+json": {
       "model_id": "",
       "version_major": 2,
       "version_minor": 0
      },
      "text/plain": [
       "HBox(children=(IntProgress(value=0, description='Epoch 11', max=738, style=ProgressStyle(description_width='in…"
      ]
     },
     "metadata": {},
     "output_type": "display_data"
    },
    {
     "name": "stdout",
     "output_type": "stream",
     "text": [
      "\n",
      "Epoch 00012: val_loss did not improve from 1.62606\n"
     ]
    },
    {
     "data": {
      "application/vnd.jupyter.widget-view+json": {
       "model_id": "",
       "version_major": 2,
       "version_minor": 0
      },
      "text/plain": [
       "HBox(children=(IntProgress(value=0, description='Epoch 12', max=738, style=ProgressStyle(description_width='in…"
      ]
     },
     "metadata": {},
     "output_type": "display_data"
    },
    {
     "name": "stdout",
     "output_type": "stream",
     "text": [
      "\n",
      "Epoch 00013: val_loss improved from 1.62606 to 1.61761, saving model to models/model_40x40_8breeds_0.3dropout_0.0005lr_500fc_20batch.hdf5\n"
     ]
    },
    {
     "data": {
      "application/vnd.jupyter.widget-view+json": {
       "model_id": "",
       "version_major": 2,
       "version_minor": 0
      },
      "text/plain": [
       "HBox(children=(IntProgress(value=0, description='Epoch 13', max=738, style=ProgressStyle(description_width='in…"
      ]
     },
     "metadata": {},
     "output_type": "display_data"
    },
    {
     "name": "stdout",
     "output_type": "stream",
     "text": [
      "\n",
      "Epoch 00014: val_loss did not improve from 1.61761\n"
     ]
    },
    {
     "data": {
      "application/vnd.jupyter.widget-view+json": {
       "model_id": "",
       "version_major": 2,
       "version_minor": 0
      },
      "text/plain": [
       "HBox(children=(IntProgress(value=0, description='Epoch 14', max=738, style=ProgressStyle(description_width='in…"
      ]
     },
     "metadata": {},
     "output_type": "display_data"
    },
    {
     "name": "stdout",
     "output_type": "stream",
     "text": [
      "\n",
      "Epoch 00015: val_loss did not improve from 1.61761\n"
     ]
    },
    {
     "data": {
      "application/vnd.jupyter.widget-view+json": {
       "model_id": "",
       "version_major": 2,
       "version_minor": 0
      },
      "text/plain": [
       "HBox(children=(IntProgress(value=0, description='Epoch 15', max=738, style=ProgressStyle(description_width='in…"
      ]
     },
     "metadata": {},
     "output_type": "display_data"
    },
    {
     "name": "stdout",
     "output_type": "stream",
     "text": [
      "\n",
      "Epoch 00016: val_loss did not improve from 1.61761\n"
     ]
    },
    {
     "data": {
      "application/vnd.jupyter.widget-view+json": {
       "model_id": "",
       "version_major": 2,
       "version_minor": 0
      },
      "text/plain": [
       "HBox(children=(IntProgress(value=0, description='Epoch 16', max=738, style=ProgressStyle(description_width='in…"
      ]
     },
     "metadata": {},
     "output_type": "display_data"
    },
    {
     "name": "stdout",
     "output_type": "stream",
     "text": [
      "\n",
      "Epoch 00017: val_loss did not improve from 1.61761\n"
     ]
    },
    {
     "data": {
      "application/vnd.jupyter.widget-view+json": {
       "model_id": "",
       "version_major": 2,
       "version_minor": 0
      },
      "text/plain": [
       "HBox(children=(IntProgress(value=0, description='Epoch 17', max=738, style=ProgressStyle(description_width='in…"
      ]
     },
     "metadata": {},
     "output_type": "display_data"
    },
    {
     "name": "stdout",
     "output_type": "stream",
     "text": [
      "\n",
      "Epoch 00018: val_loss did not improve from 1.61761\n",
      "Epoch 00018: early stopping\n",
      "\n",
      "Evaluating split: 4 of 5\n",
      "Recording metrics: 4 of 5\n",
      "\n",
      "\n",
      "Training split: 5 of 5\n",
      "model_40x40_8breeds_0.3dropout_0.0005lr_500fc_20batch\n"
     ]
    },
    {
     "data": {
      "application/vnd.jupyter.widget-view+json": {
       "model_id": "664aaceeb4374181bdc1d8ea48aca700",
       "version_major": 2,
       "version_minor": 0
      },
      "text/plain": [
       "HBox(children=(IntProgress(value=0, description='Training', max=50, style=ProgressStyle(description_width='ini…"
      ]
     },
     "metadata": {},
     "output_type": "display_data"
    },
    {
     "data": {
      "application/vnd.jupyter.widget-view+json": {
       "model_id": "",
       "version_major": 2,
       "version_minor": 0
      },
      "text/plain": [
       "HBox(children=(IntProgress(value=0, description='Epoch 0', max=738, style=ProgressStyle(description_width='ini…"
      ]
     },
     "metadata": {},
     "output_type": "display_data"
    },
    {
     "name": "stdout",
     "output_type": "stream",
     "text": [
      "\n",
      "Epoch 00001: val_loss improved from inf to 2.04259, saving model to models/model_40x40_8breeds_0.3dropout_0.0005lr_500fc_20batch.hdf5\n"
     ]
    },
    {
     "data": {
      "application/vnd.jupyter.widget-view+json": {
       "model_id": "",
       "version_major": 2,
       "version_minor": 0
      },
      "text/plain": [
       "HBox(children=(IntProgress(value=0, description='Epoch 1', max=738, style=ProgressStyle(description_width='ini…"
      ]
     },
     "metadata": {},
     "output_type": "display_data"
    },
    {
     "name": "stdout",
     "output_type": "stream",
     "text": [
      "\n",
      "Epoch 00002: val_loss improved from 2.04259 to 1.87585, saving model to models/model_40x40_8breeds_0.3dropout_0.0005lr_500fc_20batch.hdf5\n"
     ]
    },
    {
     "data": {
      "application/vnd.jupyter.widget-view+json": {
       "model_id": "",
       "version_major": 2,
       "version_minor": 0
      },
      "text/plain": [
       "HBox(children=(IntProgress(value=0, description='Epoch 2', max=738, style=ProgressStyle(description_width='ini…"
      ]
     },
     "metadata": {},
     "output_type": "display_data"
    },
    {
     "name": "stdout",
     "output_type": "stream",
     "text": [
      "\n",
      "Epoch 00003: val_loss improved from 1.87585 to 1.73962, saving model to models/model_40x40_8breeds_0.3dropout_0.0005lr_500fc_20batch.hdf5\n"
     ]
    },
    {
     "data": {
      "application/vnd.jupyter.widget-view+json": {
       "model_id": "",
       "version_major": 2,
       "version_minor": 0
      },
      "text/plain": [
       "HBox(children=(IntProgress(value=0, description='Epoch 3', max=738, style=ProgressStyle(description_width='ini…"
      ]
     },
     "metadata": {},
     "output_type": "display_data"
    },
    {
     "name": "stdout",
     "output_type": "stream",
     "text": [
      "\n",
      "Epoch 00004: val_loss did not improve from 1.73962\n"
     ]
    },
    {
     "data": {
      "application/vnd.jupyter.widget-view+json": {
       "model_id": "",
       "version_major": 2,
       "version_minor": 0
      },
      "text/plain": [
       "HBox(children=(IntProgress(value=0, description='Epoch 4', max=738, style=ProgressStyle(description_width='ini…"
      ]
     },
     "metadata": {},
     "output_type": "display_data"
    },
    {
     "name": "stdout",
     "output_type": "stream",
     "text": [
      "\n",
      "Epoch 00005: val_loss improved from 1.73962 to 1.63994, saving model to models/model_40x40_8breeds_0.3dropout_0.0005lr_500fc_20batch.hdf5\n"
     ]
    },
    {
     "data": {
      "application/vnd.jupyter.widget-view+json": {
       "model_id": "",
       "version_major": 2,
       "version_minor": 0
      },
      "text/plain": [
       "HBox(children=(IntProgress(value=0, description='Epoch 5', max=738, style=ProgressStyle(description_width='ini…"
      ]
     },
     "metadata": {},
     "output_type": "display_data"
    },
    {
     "name": "stdout",
     "output_type": "stream",
     "text": [
      "\n",
      "Epoch 00006: val_loss improved from 1.63994 to 1.60277, saving model to models/model_40x40_8breeds_0.3dropout_0.0005lr_500fc_20batch.hdf5\n"
     ]
    },
    {
     "data": {
      "application/vnd.jupyter.widget-view+json": {
       "model_id": "",
       "version_major": 2,
       "version_minor": 0
      },
      "text/plain": [
       "HBox(children=(IntProgress(value=0, description='Epoch 6', max=738, style=ProgressStyle(description_width='ini…"
      ]
     },
     "metadata": {},
     "output_type": "display_data"
    },
    {
     "name": "stdout",
     "output_type": "stream",
     "text": [
      "\n",
      "Epoch 00007: val_loss did not improve from 1.60277\n"
     ]
    },
    {
     "data": {
      "application/vnd.jupyter.widget-view+json": {
       "model_id": "",
       "version_major": 2,
       "version_minor": 0
      },
      "text/plain": [
       "HBox(children=(IntProgress(value=0, description='Epoch 7', max=738, style=ProgressStyle(description_width='ini…"
      ]
     },
     "metadata": {},
     "output_type": "display_data"
    },
    {
     "name": "stdout",
     "output_type": "stream",
     "text": [
      "\n",
      "Epoch 00008: val_loss did not improve from 1.60277\n"
     ]
    },
    {
     "data": {
      "application/vnd.jupyter.widget-view+json": {
       "model_id": "",
       "version_major": 2,
       "version_minor": 0
      },
      "text/plain": [
       "HBox(children=(IntProgress(value=0, description='Epoch 8', max=738, style=ProgressStyle(description_width='ini…"
      ]
     },
     "metadata": {},
     "output_type": "display_data"
    },
    {
     "name": "stdout",
     "output_type": "stream",
     "text": [
      "\n",
      "Epoch 00009: val_loss did not improve from 1.60277\n"
     ]
    },
    {
     "data": {
      "application/vnd.jupyter.widget-view+json": {
       "model_id": "",
       "version_major": 2,
       "version_minor": 0
      },
      "text/plain": [
       "HBox(children=(IntProgress(value=0, description='Epoch 9', max=738, style=ProgressStyle(description_width='ini…"
      ]
     },
     "metadata": {},
     "output_type": "display_data"
    },
    {
     "name": "stdout",
     "output_type": "stream",
     "text": [
      "\n",
      "Epoch 00010: val_loss improved from 1.60277 to 1.57071, saving model to models/model_40x40_8breeds_0.3dropout_0.0005lr_500fc_20batch.hdf5\n"
     ]
    },
    {
     "data": {
      "application/vnd.jupyter.widget-view+json": {
       "model_id": "",
       "version_major": 2,
       "version_minor": 0
      },
      "text/plain": [
       "HBox(children=(IntProgress(value=0, description='Epoch 10', max=738, style=ProgressStyle(description_width='in…"
      ]
     },
     "metadata": {},
     "output_type": "display_data"
    },
    {
     "name": "stdout",
     "output_type": "stream",
     "text": [
      "\n",
      "Epoch 00011: val_loss improved from 1.57071 to 1.54974, saving model to models/model_40x40_8breeds_0.3dropout_0.0005lr_500fc_20batch.hdf5\n"
     ]
    },
    {
     "data": {
      "application/vnd.jupyter.widget-view+json": {
       "model_id": "",
       "version_major": 2,
       "version_minor": 0
      },
      "text/plain": [
       "HBox(children=(IntProgress(value=0, description='Epoch 11', max=738, style=ProgressStyle(description_width='in…"
      ]
     },
     "metadata": {},
     "output_type": "display_data"
    },
    {
     "name": "stdout",
     "output_type": "stream",
     "text": [
      "\n",
      "Epoch 00012: val_loss improved from 1.54974 to 1.54596, saving model to models/model_40x40_8breeds_0.3dropout_0.0005lr_500fc_20batch.hdf5\n"
     ]
    },
    {
     "data": {
      "application/vnd.jupyter.widget-view+json": {
       "model_id": "",
       "version_major": 2,
       "version_minor": 0
      },
      "text/plain": [
       "HBox(children=(IntProgress(value=0, description='Epoch 12', max=738, style=ProgressStyle(description_width='in…"
      ]
     },
     "metadata": {},
     "output_type": "display_data"
    },
    {
     "name": "stdout",
     "output_type": "stream",
     "text": [
      "\n",
      "Epoch 00013: val_loss did not improve from 1.54596\n"
     ]
    },
    {
     "data": {
      "application/vnd.jupyter.widget-view+json": {
       "model_id": "",
       "version_major": 2,
       "version_minor": 0
      },
      "text/plain": [
       "HBox(children=(IntProgress(value=0, description='Epoch 13', max=738, style=ProgressStyle(description_width='in…"
      ]
     },
     "metadata": {},
     "output_type": "display_data"
    },
    {
     "name": "stdout",
     "output_type": "stream",
     "text": [
      "\n",
      "Epoch 00014: val_loss did not improve from 1.54596\n"
     ]
    },
    {
     "data": {
      "application/vnd.jupyter.widget-view+json": {
       "model_id": "",
       "version_major": 2,
       "version_minor": 0
      },
      "text/plain": [
       "HBox(children=(IntProgress(value=0, description='Epoch 14', max=738, style=ProgressStyle(description_width='in…"
      ]
     },
     "metadata": {},
     "output_type": "display_data"
    },
    {
     "name": "stdout",
     "output_type": "stream",
     "text": [
      "\n",
      "Epoch 00015: val_loss did not improve from 1.54596\n"
     ]
    },
    {
     "data": {
      "application/vnd.jupyter.widget-view+json": {
       "model_id": "",
       "version_major": 2,
       "version_minor": 0
      },
      "text/plain": [
       "HBox(children=(IntProgress(value=0, description='Epoch 15', max=738, style=ProgressStyle(description_width='in…"
      ]
     },
     "metadata": {},
     "output_type": "display_data"
    },
    {
     "name": "stdout",
     "output_type": "stream",
     "text": [
      "\n",
      "Epoch 00016: val_loss did not improve from 1.54596\n"
     ]
    },
    {
     "data": {
      "application/vnd.jupyter.widget-view+json": {
       "model_id": "",
       "version_major": 2,
       "version_minor": 0
      },
      "text/plain": [
       "HBox(children=(IntProgress(value=0, description='Epoch 16', max=738, style=ProgressStyle(description_width='in…"
      ]
     },
     "metadata": {},
     "output_type": "display_data"
    },
    {
     "name": "stdout",
     "output_type": "stream",
     "text": [
      "\n",
      "Epoch 00017: val_loss did not improve from 1.54596\n",
      "Epoch 00017: early stopping\n",
      "\n",
      "Evaluating split: 5 of 5\n",
      "Recording metrics: 5 of 5\n",
      "\n",
      "\n",
      "Average Mean: 0.42078730904817857\n",
      "Average Recall: 0.42078730904817857\n",
      "Average Precision: 0.44645292643147194\n"
     ]
    }
   ],
   "source": [
    "n_splits = 5\n",
    "\n",
    "\n",
    "accuracies = []\n",
    "recalls = []\n",
    "precisions = []\n",
    "conf_matrices = []\n",
    "\n",
    "# K-Fold cross validation\n",
    "i = 0\n",
    "kf = KFold(n_splits=n_splits)\n",
    "for train, test in kf.split(X, y):\n",
    "    i += 1\n",
    "    # Train model\n",
    "    print(\"Training split:\", i, \"of\", n_splits)\n",
    "    model, history = train_model(X[train], y[train], X[test], y[test], image_resize, Nber_of_breeds, dropout, fully_connected_nodes, learning_rate, epochs, batch_size)\n",
    "    \n",
    "    # Evaluate model\n",
    "    print(\"Evaluating split:\", i, \"of\", n_splits)\n",
    "    accuracy, recall, precision, conf_matrix = evaluate_model(model, X[train], y[train], X[test], y[test], labels_name)\n",
    "    \n",
    "    # Record metrics\n",
    "    print(\"Recording metrics:\", i, \"of\", n_splits)\n",
    "    accuracies.append(accuracy)\n",
    "    recalls.append(recall)\n",
    "    precisions.append(precision)\n",
    "    conf_matrices.append(conf_matrix)\n",
    "    \n",
    "    print(\"\\n\")\n",
    "    \n",
    "# Print average metrics\n",
    "print(\"Average Mean:\", np.asarray(accuracies).mean())\n",
    "print(\"Average Recall:\", np.asarray(recalls).mean())\n",
    "print(\"Average Precision:\", np.asarray(precisions).mean())"
   ]
  },
  {
   "cell_type": "markdown",
   "metadata": {},
   "source": [
    "### Image Size vs Accuracy - 8 Classes"
   ]
  },
  {
   "cell_type": "code",
   "execution_count": 53,
   "metadata": {},
   "outputs": [
    {
     "name": "stdout",
     "output_type": "stream",
     "text": [
      "Loading model: model_20x20_8breeds_0.3dropout_0.0005lr_500fc_20batch\n",
      "Loading X_test pickle...\n",
      "Loading y_test pickle...\n",
      "Getting predictions...\n",
      "Calculating accuracy...\n",
      "Loading model: model_40x40_8breeds_0.3dropout_0.0005lr_500fc_20batch\n",
      "Loading X_test pickle...\n",
      "Loading y_test pickle...\n",
      "Getting predictions...\n",
      "Calculating accuracy...\n",
      "Loading model: model_60x60_8breeds_0.3dropout_0.0005lr_500fc_20batch\n",
      "Loading X_test pickle...\n",
      "Loading y_test pickle...\n",
      "Getting predictions...\n",
      "Calculating accuracy...\n",
      "Loading model: model_80x80_8breeds_0.3dropout_0.0005lr_500fc_20batch\n",
      "Loading X_test pickle...\n",
      "Loading y_test pickle...\n",
      "Getting predictions...\n",
      "Calculating accuracy...\n"
     ]
    },
    {
     "data": {
      "image/png": "[encoded data removed]",
      "text/plain": [
       "<Figure size 432x288 with 1 Axes>"
      ]
     },
     "metadata": {
      "needs_background": "light"
     },
     "output_type": "display_data"
    }
   ],
   "source": [
    "# Data params\n",
    "image_resizes = [20, 40, 60, 80]\n",
    "Nber_of_breeds = 8\n",
    "\n",
    "# Model params\n",
    "dropout = 0.3\n",
    "fully_connected_nodes = 500\n",
    "learning_rate=0.0005\n",
    "\n",
    "# Training params\n",
    "batch_size = 20\n",
    "\n",
    "models = []\n",
    "for size in image_resizes:\n",
    "    model_name = \"model_\" + str(size) + \"x\" + str(size) + \"_\" + str(Nber_of_breeds) + \"breeds_\" + str(dropout) + \"dropout_\" + str(learning_rate) + \"lr_\" + str(fully_connected_nodes) + \"fc_\" + str(batch_size) + \"batch\"\n",
    "\n",
    "    models.append(model_name)\n",
    "\n",
    "accuracies = []\n",
    "for size, model_name in zip(image_resizes, models):\n",
    "    print(\"Loading model:\", model_name)\n",
    "    model = load_model('models/' + model_name + '.hdf5')\n",
    "    \n",
    "    print(\"Loading X_test pickle...\")\n",
    "    X_test = pickle.load(open(\"pickles/X_test_\" + str(size) + \"x\" + str(size) + \"_\" + str(Nber_of_breeds) + \".pkl\", \"rb\"))\n",
    "    \n",
    "    print(\"Loading y_test pickle...\")\n",
    "    y_test = pickle.load(open(\"pickles/y_test_\" + str(size) + \"x\" + str(size) + \"_\" + str(Nber_of_breeds) + \".pkl\", \"rb\"))\n",
    "    \n",
    "    print(\"Getting predictions...\")\n",
    "    predictions = model.predict(X_test)\n",
    "\n",
    "    \n",
    "    pred_argmax = []\n",
    "    for pred in predictions:\n",
    "        pred_argmax.append(pred.argmax())\n",
    "\n",
    "    true_argmax = []\n",
    "    for pred in y_test:\n",
    "        true_argmax.append(pred.argmax())\n",
    "\n",
    "    print(\"Calculating accuracy...\")\n",
    "    accuracies.append(accuracy_score(pred_argmax, true_argmax))\n",
    "    \n",
    "plt.scatter(image_resizes, accuracies);\n",
    "plt.xlabel(\"Image Size in Pixels\");\n",
    "plt.ylabel(\"Accuracy in %\");\n",
    "plt.title(f\"Image Size vs Accuracy - {Nber_of_breeds} Classes\");"
   ]
  },
  {
   "cell_type": "markdown",
   "metadata": {},
   "source": [
    "### Number of Breeds vs Accuracy - 60x60 Images"
   ]
  },
  {
   "cell_type": "code",
   "execution_count": 11,
   "metadata": {},
   "outputs": [
    {
     "name": "stdout",
     "output_type": "stream",
     "text": [
      "Loading model: model_60x60_4breeds_0.3dropout_0.0001lr_500fc_20batch\n",
      "Loading X_test pickle...\n",
      "Loading y_test pickle...\n",
      "Getting predictions...\n",
      "Calculating accuracy...\n",
      "Loading model: model_60x60_8breeds_0.3dropout_0.0001lr_500fc_20batch\n",
      "Loading X_test pickle...\n",
      "Loading y_test pickle...\n",
      "Getting predictions...\n",
      "Calculating accuracy...\n",
      "Loading model: model_60x60_16breeds_0.3dropout_0.0001lr_500fc_20batch\n",
      "Loading X_test pickle...\n",
      "Loading y_test pickle...\n",
      "Getting predictions...\n",
      "Calculating accuracy...\n",
      "Loading model: model_60x60_32breeds_0.3dropout_0.0001lr_500fc_20batch\n",
      "Loading X_test pickle...\n",
      "Loading y_test pickle...\n",
      "Getting predictions...\n",
      "Calculating accuracy...\n",
      "Loading model: model_60x60_64breeds_0.3dropout_0.0001lr_500fc_20batch\n"
     ]
    },
    {
     "name": "stderr",
     "output_type": "stream",
     "text": [
      "/home/nschenon/.local/lib/python3.7/site-packages/keras/engine/saving.py:341: UserWarning: No training configuration found in save file: the model was *not* compiled. Compile it manually.\n",
      "  warnings.warn('No training configuration found in save file: '\n"
     ]
    },
    {
     "name": "stdout",
     "output_type": "stream",
     "text": [
      "Loading X_test pickle...\n",
      "Loading y_test pickle...\n",
      "Getting predictions...\n",
      "Calculating accuracy...\n"
     ]
    },
    {
     "data": {
      "image/png": "[encoded data removed]",
      "text/plain": [
       "<Figure size 432x288 with 1 Axes>"
      ]
     },
     "metadata": {
      "needs_background": "light"
     },
     "output_type": "display_data"
    }
   ],
   "source": [
    "# Data params\n",
    "size = 60\n",
    "num_breeds = [4, 8, 16, 32, 64]\n",
    "\n",
    "# Model params\n",
    "dropout = 0.3\n",
    "fully_connected_nodes = 500\n",
    "learning_rate=0.0001\n",
    "\n",
    "# Training params\n",
    "batch_size = 20\n",
    "\n",
    "models = []\n",
    "for breed in num_breeds:\n",
    "    model_name = \"model_\" + str(size) + \"x\" + str(size) + \"_\" + str(breed) + \"breeds_\" + str(dropout) + \"dropout_\" + str(learning_rate) + \"lr_\" + str(fully_connected_nodes) + \"fc_\" + str(batch_size) + \"batch\"\n",
    "\n",
    "    models.append(model_name)\n",
    "\n",
    "accuracies = []\n",
    "for breed, model_name in zip(num_breeds, models):\n",
    "    print(\"Loading model:\", model_name)\n",
    "    model = load_model('models/' + model_name + '.hdf5')\n",
    "    \n",
    "    print(\"Loading X_test pickle...\")\n",
    "    X_test = pickle.load(open(\"pickles/X_test_\" + str(size) + \"x\" + str(size) + \"_\" + str(breed) + \".pkl\", \"rb\"))\n",
    "    \n",
    "    print(\"Loading y_test pickle...\")\n",
    "    y_test = pickle.load(open(\"pickles/y_test_\" + str(size) + \"x\" + str(size) + \"_\" + str(breed) + \".pkl\", \"rb\"))\n",
    "    \n",
    "    print(\"Getting predictions...\")\n",
    "    predictions = model.predict(X_test)\n",
    "\n",
    "    \n",
    "    pred_argmax = []\n",
    "    for pred in predictions:\n",
    "        pred_argmax.append(pred.argmax())\n",
    "\n",
    "    true_argmax = []\n",
    "    for pred in y_test:\n",
    "        true_argmax.append(pred.argmax())\n",
    "\n",
    "    print(\"Calculating accuracy...\")\n",
    "    accuracies.append(accuracy_score(pred_argmax, true_argmax))\n",
    "    \n",
    "plt.scatter(num_breeds, accuracies);\n",
    "plt.xlabel(\"Number of Breeds\");\n",
    "plt.ylabel(\"Accuracy in %\");\n",
    "plt.title(f\"Number of Breeds vs Accuracy - {size}x{size} Images\");"
   ]
  },
  {
   "cell_type": "markdown",
   "metadata": {},
   "source": [
    "### Learning Rate vs Accuracy - 60x60 Images"
   ]
  },
  {
   "cell_type": "code",
   "execution_count": 12,
   "metadata": {},
   "outputs": [
    {
     "name": "stdout",
     "output_type": "stream",
     "text": [
      "Loading model: model_60x60_8breeds_0.3dropout_0.0001lr_500fc_20batch\n",
      "Loading X_test pickle...\n",
      "Loading y_test pickle...\n",
      "Getting predictions...\n",
      "Calculating accuracy...\n",
      "Loading model: model_60x60_8breeds_0.3dropout_0.0005lr_500fc_20batch\n",
      "Loading X_test pickle...\n",
      "Loading y_test pickle...\n",
      "Getting predictions...\n",
      "Calculating accuracy...\n",
      "Loading model: model_60x60_8breeds_0.3dropout_0.001lr_500fc_20batch\n",
      "Loading X_test pickle...\n",
      "Loading y_test pickle...\n",
      "Getting predictions...\n",
      "Calculating accuracy...\n"
     ]
    },
    {
     "data": {
      "image/png": "[encoded data removed]",
      "text/plain": [
       "<Figure size 432x288 with 1 Axes>"
      ]
     },
     "metadata": {
      "needs_background": "light"
     },
     "output_type": "display_data"
    }
   ],
   "source": [
    "# Data params\n",
    "size = 60\n",
    "breed = 8\n",
    "\n",
    "# Model params\n",
    "dropout = 0.3\n",
    "fully_connected_nodes = 500\n",
    "learning_rates= [0.0001, 0.0005, 0.001]\n",
    "\n",
    "# Training params\n",
    "batch_size = 20\n",
    "\n",
    "models = []\n",
    "for learning_rate in learning_rates:\n",
    "    model_name = \"model_\" + str(size) + \"x\" + str(size) + \"_\" + str(breed) + \"breeds_\" + str(dropout) + \"dropout_\" + str(learning_rate) + \"lr_\" + str(fully_connected_nodes) + \"fc_\" + str(batch_size) + \"batch\"\n",
    "\n",
    "    models.append(model_name)\n",
    "\n",
    "accuracies = []\n",
    "for breed, model_name in zip(num_breeds, models):\n",
    "    print(\"Loading model:\", model_name)\n",
    "    model = load_model('models/' + model_name + '.hdf5')\n",
    "    \n",
    "    print(\"Loading X_test pickle...\")\n",
    "    X_test = pickle.load(open(\"pickles/X_test_\" + str(size) + \"x\" + str(size) + \"_\" + str(breed) + \".pkl\", \"rb\"))\n",
    "    \n",
    "    print(\"Loading y_test pickle...\")\n",
    "    y_test = pickle.load(open(\"pickles/y_test_\" + str(size) + \"x\" + str(size) + \"_\" + str(breed) + \".pkl\", \"rb\"))\n",
    "    \n",
    "    print(\"Getting predictions...\")\n",
    "    predictions = model.predict(X_test)\n",
    "\n",
    "    \n",
    "    pred_argmax = []\n",
    "    for pred in predictions:\n",
    "        pred_argmax.append(pred.argmax())\n",
    "\n",
    "    true_argmax = []\n",
    "    for pred in y_test:\n",
    "        true_argmax.append(pred.argmax())\n",
    "\n",
    "    print(\"Calculating accuracy...\")\n",
    "    accuracies.append(accuracy_score(pred_argmax, true_argmax))\n",
    "    \n",
    "plt.scatter(learning_rates, accuracies);\n",
    "plt.xlabel(\"Learning Rate\");\n",
    "plt.ylabel(\"Accuracy in %\");\n",
    "plt.title(f\"Learning Rate vs Accuracy - {size}x{size} Images\");"
   ]
  }
 ],
 "metadata": {
  "kernelspec": {
   "display_name": "cogs118b",
   "language": "python",
   "name": "cogs118b"
  },
  "language_info": {
   "codemirror_mode": {
    "name": "ipython",
    "version": 3
   },
   "file_extension": ".py",
   "mimetype": "text/x-python",
   "name": "python",
   "nbconvert_exporter": "python",
   "pygments_lexer": "ipython3",
   "version": "3.7.3"
  }
 },
 "nbformat": 4,
 "nbformat_minor": 4
}
