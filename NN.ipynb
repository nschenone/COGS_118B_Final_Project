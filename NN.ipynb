{
 "cells": [
  {
   "cell_type": "code",
   "execution_count": 84,
   "metadata": {},
   "outputs": [],
   "source": [
    "import pickle\n",
    "%matplotlib inline\n",
    "import matplotlib.pyplot as plt\n",
    "\n",
    "import numpy as np\n",
    "\n",
    "import keras\n",
    "from keras.models import Sequential\n",
    "from keras.layers import Dense, Conv2D, Flatten, MaxPool2D, Dropout\n",
    "from keras.callbacks import ModelCheckpoint, EarlyStopping\n",
    "from keras.models import load_model\n",
    "from keras_tqdm import TQDMNotebookCallback\n",
    "\n",
    "from sklearn.metrics import accuracy_score"
   ]
  },
  {
   "cell_type": "code",
   "execution_count": 144,
   "metadata": {},
   "outputs": [],
   "source": [
    "def train_model(image_resize, Nber_of_breeds, dropout, fully_connected_nodes, learning_rate, epochs, batch_size):\n",
    "    # Print model name\n",
    "    print(\"X_train_\" + str(image_resize) + \"x\" + str(image_resize) + \"_\" + str(Nber_of_breeds) + \".pkl\")\n",
    "\n",
    "    # Load data\n",
    "    X_train = pickle.load(open(\"pickles/X_train_\" + str(image_resize) + \"x\" + str(image_resize) + \"_\" + str(Nber_of_breeds) + \".pkl\", \"rb\"))\n",
    "    X_test = pickle.load(open(\"pickles/X_test_\" + str(image_resize) + \"x\" + str(image_resize) + \"_\" + str(Nber_of_breeds) + \".pkl\", \"rb\"))\n",
    "    y_train = pickle.load(open(\"pickles/y_train_\" + str(image_resize) + \"x\" + str(image_resize) + \"_\" + str(Nber_of_breeds) + \".pkl\", \"rb\"))\n",
    "    y_test = pickle.load(open(\"pickles/y_test_\" + str(image_resize) + \"x\" + str(image_resize) + \"_\" + str(Nber_of_breeds) + \".pkl\", \"rb\"))\n",
    "    labels_name = pickle.load(open(\"pickles/labels_name_\" + str(image_resize) + \"x\" + str(image_resize) + \"_\" + str(Nber_of_breeds) + \".pkl\", \"rb\"))\n",
    "\n",
    "    # Create model\n",
    "    model = Sequential()\n",
    "    #add model layers\n",
    "    model.add(Conv2D(32, kernel_size=5, activation='relu', input_shape=(image_resize,image_resize,3)))\n",
    "    model.add(MaxPool2D(pool_size=(2, 2), strides=(2,2), padding='same'))\n",
    "\n",
    "    model.add(Conv2D(64, kernel_size=4, activation='relu'))\n",
    "    model.add(MaxPool2D(pool_size=(2, 2), strides=(2,2), padding='same'))\n",
    "\n",
    "    model.add(Conv2D(128, kernel_size=3, activation='relu'))\n",
    "    model.add(MaxPool2D(pool_size=(2, 2), strides=(2,2), padding='same'))\n",
    "\n",
    "    # model.add(Conv2D(256, kernel_size=3, activation='relu'))\n",
    "    # model.add(MaxPool2D(pool_size=(2, 2), strides=(2,2), padding='same'))\n",
    "\n",
    "    model.add(Dropout(dropout))\n",
    "    model.add(Flatten())\n",
    "    model.add(Dense(fully_connected_nodes, activation='relu'))\n",
    "    model.add(Dropout(dropout))\n",
    "\n",
    "    model.add(Dense(Nber_of_breeds, activation='softmax'))\n",
    "\n",
    "    # Compile model\n",
    "    model_name = \"model_\" + str(image_resize) + \"x\" + str(image_resize) + \"_\" + str(Nber_of_breeds) + \"breeds_\" + str(dropout) + \"dropout_\" + str(learning_rate) + \"lr_\" + str(fully_connected_nodes) + \"fc_\" + str(batch_size) + \"batch\"\n",
    "    print(model_name)\n",
    "    checkpointer = ModelCheckpoint(filepath=\"models/\" + model_name + \".hdf5\", verbose=1, save_best_only=True)\n",
    "    early_stopping = EarlyStopping(monitor='val_loss', mode='min', verbose=1, patience=5)\n",
    "    adam = keras.optimizers.Adam(learning_rate=learning_rate)\n",
    "    model.compile(optimizer=adam, loss='categorical_crossentropy', metrics=['accuracy'])\n",
    "\n",
    "    # Train model\n",
    "    history = model.fit(X_train, y_train, validation_data=(X_test, y_test), epochs=epochs, batch_size=batch_size, callbacks=[checkpointer, early_stopping, TQDMNotebookCallback()], verbose=0)"
   ]
  },
  {
   "cell_type": "code",
   "execution_count": 152,
   "metadata": {},
   "outputs": [],
   "source": [
    "# Data params\n",
    "image_resize = 60\n",
    "Nber_of_breeds = 8\n",
    "\n",
    "# Model params\n",
    "dropout = 0.3\n",
    "fully_connected_nodes = 500\n",
    "learning_rate=0.0005\n",
    "# learning_rates= [0.0001, 0.0005, 0.001]\n",
    "\n",
    "# Training params\n",
    "epochs = 50\n",
    "batch_size = 20"
   ]
  },
  {
   "cell_type": "code",
   "execution_count": 153,
   "metadata": {},
   "outputs": [
    {
     "name": "stdout",
     "output_type": "stream",
     "text": [
      "X_train_60x60_8.pkl\n",
      "model_60x60_8breeds_0.3dropout_0.0005lr_500fc_20batch\n"
     ]
    },
    {
     "data": {
      "application/vnd.jupyter.widget-view+json": {
       "model_id": "9ba22b5d6a7240ac9fe1f4fb61683407",
       "version_major": 2,
       "version_minor": 0
      },
      "text/plain": [
       "HBox(children=(IntProgress(value=0, description='Training', max=50, style=ProgressStyle(description_width='ini…"
      ]
     },
     "metadata": {},
     "output_type": "display_data"
    },
    {
     "data": {
      "application/vnd.jupyter.widget-view+json": {
       "model_id": "",
       "version_major": 2,
       "version_minor": 0
      },
      "text/plain": [
       "HBox(children=(IntProgress(value=0, description='Epoch 0', max=645, style=ProgressStyle(description_width='ini…"
      ]
     },
     "metadata": {},
     "output_type": "display_data"
    },
    {
     "name": "stdout",
     "output_type": "stream",
     "text": [
      "\n",
      "Epoch 00001: val_loss improved from inf to 2.04987, saving model to models/model_60x60_8breeds_0.3dropout_0.0005lr_500fc_20batch.hdf5\n"
     ]
    },
    {
     "data": {
      "application/vnd.jupyter.widget-view+json": {
       "model_id": "",
       "version_major": 2,
       "version_minor": 0
      },
      "text/plain": [
       "HBox(children=(IntProgress(value=0, description='Epoch 1', max=645, style=ProgressStyle(description_width='ini…"
      ]
     },
     "metadata": {},
     "output_type": "display_data"
    },
    {
     "name": "stdout",
     "output_type": "stream",
     "text": [
      "\n",
      "Epoch 00002: val_loss improved from 2.04987 to 1.86193, saving model to models/model_60x60_8breeds_0.3dropout_0.0005lr_500fc_20batch.hdf5\n"
     ]
    },
    {
     "data": {
      "application/vnd.jupyter.widget-view+json": {
       "model_id": "",
       "version_major": 2,
       "version_minor": 0
      },
      "text/plain": [
       "HBox(children=(IntProgress(value=0, description='Epoch 2', max=645, style=ProgressStyle(description_width='ini…"
      ]
     },
     "metadata": {},
     "output_type": "display_data"
    },
    {
     "name": "stdout",
     "output_type": "stream",
     "text": [
      "\n",
      "Epoch 00003: val_loss improved from 1.86193 to 1.72537, saving model to models/model_60x60_8breeds_0.3dropout_0.0005lr_500fc_20batch.hdf5\n"
     ]
    },
    {
     "data": {
      "application/vnd.jupyter.widget-view+json": {
       "model_id": "",
       "version_major": 2,
       "version_minor": 0
      },
      "text/plain": [
       "HBox(children=(IntProgress(value=0, description='Epoch 3', max=645, style=ProgressStyle(description_width='ini…"
      ]
     },
     "metadata": {},
     "output_type": "display_data"
    },
    {
     "name": "stdout",
     "output_type": "stream",
     "text": [
      "\n",
      "Epoch 00004: val_loss improved from 1.72537 to 1.65545, saving model to models/model_60x60_8breeds_0.3dropout_0.0005lr_500fc_20batch.hdf5\n"
     ]
    },
    {
     "data": {
      "application/vnd.jupyter.widget-view+json": {
       "model_id": "",
       "version_major": 2,
       "version_minor": 0
      },
      "text/plain": [
       "HBox(children=(IntProgress(value=0, description='Epoch 4', max=645, style=ProgressStyle(description_width='ini…"
      ]
     },
     "metadata": {},
     "output_type": "display_data"
    },
    {
     "name": "stdout",
     "output_type": "stream",
     "text": [
      "\n",
      "Epoch 00005: val_loss did not improve from 1.65545\n"
     ]
    },
    {
     "data": {
      "application/vnd.jupyter.widget-view+json": {
       "model_id": "",
       "version_major": 2,
       "version_minor": 0
      },
      "text/plain": [
       "HBox(children=(IntProgress(value=0, description='Epoch 5', max=645, style=ProgressStyle(description_width='ini…"
      ]
     },
     "metadata": {},
     "output_type": "display_data"
    },
    {
     "name": "stdout",
     "output_type": "stream",
     "text": [
      "\n",
      "Epoch 00006: val_loss improved from 1.65545 to 1.61633, saving model to models/model_60x60_8breeds_0.3dropout_0.0005lr_500fc_20batch.hdf5\n"
     ]
    },
    {
     "data": {
      "application/vnd.jupyter.widget-view+json": {
       "model_id": "",
       "version_major": 2,
       "version_minor": 0
      },
      "text/plain": [
       "HBox(children=(IntProgress(value=0, description='Epoch 6', max=645, style=ProgressStyle(description_width='ini…"
      ]
     },
     "metadata": {},
     "output_type": "display_data"
    },
    {
     "name": "stdout",
     "output_type": "stream",
     "text": [
      "\n",
      "Epoch 00007: val_loss did not improve from 1.61633\n"
     ]
    },
    {
     "data": {
      "application/vnd.jupyter.widget-view+json": {
       "model_id": "",
       "version_major": 2,
       "version_minor": 0
      },
      "text/plain": [
       "HBox(children=(IntProgress(value=0, description='Epoch 7', max=645, style=ProgressStyle(description_width='ini…"
      ]
     },
     "metadata": {},
     "output_type": "display_data"
    },
    {
     "name": "stdout",
     "output_type": "stream",
     "text": [
      "\n",
      "Epoch 00008: val_loss did not improve from 1.61633\n"
     ]
    },
    {
     "data": {
      "application/vnd.jupyter.widget-view+json": {
       "model_id": "",
       "version_major": 2,
       "version_minor": 0
      },
      "text/plain": [
       "HBox(children=(IntProgress(value=0, description='Epoch 8', max=645, style=ProgressStyle(description_width='ini…"
      ]
     },
     "metadata": {},
     "output_type": "display_data"
    },
    {
     "name": "stdout",
     "output_type": "stream",
     "text": [
      "\n",
      "Epoch 00009: val_loss did not improve from 1.61633\n"
     ]
    },
    {
     "data": {
      "application/vnd.jupyter.widget-view+json": {
       "model_id": "",
       "version_major": 2,
       "version_minor": 0
      },
      "text/plain": [
       "HBox(children=(IntProgress(value=0, description='Epoch 9', max=645, style=ProgressStyle(description_width='ini…"
      ]
     },
     "metadata": {},
     "output_type": "display_data"
    },
    {
     "name": "stdout",
     "output_type": "stream",
     "text": [
      "\n",
      "Epoch 00010: val_loss did not improve from 1.61633\n"
     ]
    },
    {
     "data": {
      "application/vnd.jupyter.widget-view+json": {
       "model_id": "",
       "version_major": 2,
       "version_minor": 0
      },
      "text/plain": [
       "HBox(children=(IntProgress(value=0, description='Epoch 10', max=645, style=ProgressStyle(description_width='in…"
      ]
     },
     "metadata": {},
     "output_type": "display_data"
    },
    {
     "name": "stdout",
     "output_type": "stream",
     "text": [
      "\n",
      "Epoch 00011: val_loss did not improve from 1.61633\n",
      "Epoch 00011: early stopping\n"
     ]
    }
   ],
   "source": [
    "train_model(image_resize, Nber_of_breeds, dropout, fully_connected_nodes, learning_rate, epochs, batch_size)"
   ]
  },
  {
   "cell_type": "code",
   "execution_count": 148,
   "metadata": {},
   "outputs": [
    {
     "name": "stdout",
     "output_type": "stream",
     "text": [
      "X_train_60x60_8.pkl\n",
      "model_60x60_8breeds_0.3dropout_0.0001lr_500fc_20batch\n"
     ]
    },
    {
     "data": {
      "application/vnd.jupyter.widget-view+json": {
       "model_id": "8e0d9e283f724c5d923d134bf772894d",
       "version_major": 2,
       "version_minor": 0
      },
      "text/plain": [
       "HBox(children=(IntProgress(value=0, description='Training', max=50, style=ProgressStyle(description_width='ini…"
      ]
     },
     "metadata": {},
     "output_type": "display_data"
    },
    {
     "data": {
      "application/vnd.jupyter.widget-view+json": {
       "model_id": "",
       "version_major": 2,
       "version_minor": 0
      },
      "text/plain": [
       "HBox(children=(IntProgress(value=0, description='Epoch 0', max=645, style=ProgressStyle(description_width='ini…"
      ]
     },
     "metadata": {},
     "output_type": "display_data"
    },
    {
     "name": "stdout",
     "output_type": "stream",
     "text": [
      "\n",
      "Epoch 00001: val_loss improved from inf to 2.05459, saving model to models/model_60x60_8breeds_0.3dropout_0.0001lr_500fc_20batch.hdf5\n"
     ]
    },
    {
     "data": {
      "application/vnd.jupyter.widget-view+json": {
       "model_id": "",
       "version_major": 2,
       "version_minor": 0
      },
      "text/plain": [
       "HBox(children=(IntProgress(value=0, description='Epoch 1', max=645, style=ProgressStyle(description_width='ini…"
      ]
     },
     "metadata": {},
     "output_type": "display_data"
    },
    {
     "name": "stdout",
     "output_type": "stream",
     "text": [
      "\n",
      "Epoch 00002: val_loss improved from 2.05459 to 2.01035, saving model to models/model_60x60_8breeds_0.3dropout_0.0001lr_500fc_20batch.hdf5\n"
     ]
    },
    {
     "data": {
      "application/vnd.jupyter.widget-view+json": {
       "model_id": "",
       "version_major": 2,
       "version_minor": 0
      },
      "text/plain": [
       "HBox(children=(IntProgress(value=0, description='Epoch 2', max=645, style=ProgressStyle(description_width='ini…"
      ]
     },
     "metadata": {},
     "output_type": "display_data"
    },
    {
     "name": "stdout",
     "output_type": "stream",
     "text": [
      "\n",
      "Epoch 00003: val_loss improved from 2.01035 to 1.88164, saving model to models/model_60x60_8breeds_0.3dropout_0.0001lr_500fc_20batch.hdf5\n"
     ]
    },
    {
     "data": {
      "application/vnd.jupyter.widget-view+json": {
       "model_id": "",
       "version_major": 2,
       "version_minor": 0
      },
      "text/plain": [
       "HBox(children=(IntProgress(value=0, description='Epoch 3', max=645, style=ProgressStyle(description_width='ini…"
      ]
     },
     "metadata": {},
     "output_type": "display_data"
    },
    {
     "name": "stdout",
     "output_type": "stream",
     "text": [
      "\n",
      "Epoch 00004: val_loss improved from 1.88164 to 1.75453, saving model to models/model_60x60_8breeds_0.3dropout_0.0001lr_500fc_20batch.hdf5\n"
     ]
    },
    {
     "data": {
      "application/vnd.jupyter.widget-view+json": {
       "model_id": "",
       "version_major": 2,
       "version_minor": 0
      },
      "text/plain": [
       "HBox(children=(IntProgress(value=0, description='Epoch 4', max=645, style=ProgressStyle(description_width='ini…"
      ]
     },
     "metadata": {},
     "output_type": "display_data"
    },
    {
     "name": "stdout",
     "output_type": "stream",
     "text": [
      "\n",
      "Epoch 00005: val_loss improved from 1.75453 to 1.68463, saving model to models/model_60x60_8breeds_0.3dropout_0.0001lr_500fc_20batch.hdf5\n"
     ]
    },
    {
     "data": {
      "application/vnd.jupyter.widget-view+json": {
       "model_id": "",
       "version_major": 2,
       "version_minor": 0
      },
      "text/plain": [
       "HBox(children=(IntProgress(value=0, description='Epoch 5', max=645, style=ProgressStyle(description_width='ini…"
      ]
     },
     "metadata": {},
     "output_type": "display_data"
    },
    {
     "name": "stdout",
     "output_type": "stream",
     "text": [
      "\n",
      "Epoch 00006: val_loss did not improve from 1.68463\n"
     ]
    },
    {
     "data": {
      "application/vnd.jupyter.widget-view+json": {
       "model_id": "",
       "version_major": 2,
       "version_minor": 0
      },
      "text/plain": [
       "HBox(children=(IntProgress(value=0, description='Epoch 6', max=645, style=ProgressStyle(description_width='ini…"
      ]
     },
     "metadata": {},
     "output_type": "display_data"
    },
    {
     "name": "stdout",
     "output_type": "stream",
     "text": [
      "\n",
      "Epoch 00007: val_loss improved from 1.68463 to 1.66516, saving model to models/model_60x60_8breeds_0.3dropout_0.0001lr_500fc_20batch.hdf5\n"
     ]
    },
    {
     "data": {
      "application/vnd.jupyter.widget-view+json": {
       "model_id": "",
       "version_major": 2,
       "version_minor": 0
      },
      "text/plain": [
       "HBox(children=(IntProgress(value=0, description='Epoch 7', max=645, style=ProgressStyle(description_width='ini…"
      ]
     },
     "metadata": {},
     "output_type": "display_data"
    },
    {
     "name": "stdout",
     "output_type": "stream",
     "text": [
      "\n",
      "Epoch 00008: val_loss did not improve from 1.66516\n"
     ]
    },
    {
     "data": {
      "application/vnd.jupyter.widget-view+json": {
       "model_id": "",
       "version_major": 2,
       "version_minor": 0
      },
      "text/plain": [
       "HBox(children=(IntProgress(value=0, description='Epoch 8', max=645, style=ProgressStyle(description_width='ini…"
      ]
     },
     "metadata": {},
     "output_type": "display_data"
    },
    {
     "name": "stdout",
     "output_type": "stream",
     "text": [
      "\n",
      "Epoch 00009: val_loss improved from 1.66516 to 1.65719, saving model to models/model_60x60_8breeds_0.3dropout_0.0001lr_500fc_20batch.hdf5\n"
     ]
    },
    {
     "data": {
      "application/vnd.jupyter.widget-view+json": {
       "model_id": "",
       "version_major": 2,
       "version_minor": 0
      },
      "text/plain": [
       "HBox(children=(IntProgress(value=0, description='Epoch 9', max=645, style=ProgressStyle(description_width='ini…"
      ]
     },
     "metadata": {},
     "output_type": "display_data"
    },
    {
     "name": "stdout",
     "output_type": "stream",
     "text": [
      "\n",
      "Epoch 00010: val_loss improved from 1.65719 to 1.55960, saving model to models/model_60x60_8breeds_0.3dropout_0.0001lr_500fc_20batch.hdf5\n"
     ]
    },
    {
     "data": {
      "application/vnd.jupyter.widget-view+json": {
       "model_id": "",
       "version_major": 2,
       "version_minor": 0
      },
      "text/plain": [
       "HBox(children=(IntProgress(value=0, description='Epoch 10', max=645, style=ProgressStyle(description_width='in…"
      ]
     },
     "metadata": {},
     "output_type": "display_data"
    },
    {
     "name": "stdout",
     "output_type": "stream",
     "text": [
      "\n",
      "Epoch 00011: val_loss did not improve from 1.55960\n"
     ]
    },
    {
     "data": {
      "application/vnd.jupyter.widget-view+json": {
       "model_id": "",
       "version_major": 2,
       "version_minor": 0
      },
      "text/plain": [
       "HBox(children=(IntProgress(value=0, description='Epoch 11', max=645, style=ProgressStyle(description_width='in…"
      ]
     },
     "metadata": {},
     "output_type": "display_data"
    },
    {
     "name": "stdout",
     "output_type": "stream",
     "text": [
      "\n",
      "Epoch 00012: val_loss improved from 1.55960 to 1.55047, saving model to models/model_60x60_8breeds_0.3dropout_0.0001lr_500fc_20batch.hdf5\n"
     ]
    },
    {
     "data": {
      "application/vnd.jupyter.widget-view+json": {
       "model_id": "",
       "version_major": 2,
       "version_minor": 0
      },
      "text/plain": [
       "HBox(children=(IntProgress(value=0, description='Epoch 12', max=645, style=ProgressStyle(description_width='in…"
      ]
     },
     "metadata": {},
     "output_type": "display_data"
    },
    {
     "name": "stdout",
     "output_type": "stream",
     "text": [
      "\n",
      "Epoch 00013: val_loss did not improve from 1.55047\n"
     ]
    },
    {
     "data": {
      "application/vnd.jupyter.widget-view+json": {
       "model_id": "",
       "version_major": 2,
       "version_minor": 0
      },
      "text/plain": [
       "HBox(children=(IntProgress(value=0, description='Epoch 13', max=645, style=ProgressStyle(description_width='in…"
      ]
     },
     "metadata": {},
     "output_type": "display_data"
    },
    {
     "name": "stdout",
     "output_type": "stream",
     "text": [
      "\n",
      "Epoch 00014: val_loss did not improve from 1.55047\n"
     ]
    },
    {
     "data": {
      "application/vnd.jupyter.widget-view+json": {
       "model_id": "",
       "version_major": 2,
       "version_minor": 0
      },
      "text/plain": [
       "HBox(children=(IntProgress(value=0, description='Epoch 14', max=645, style=ProgressStyle(description_width='in…"
      ]
     },
     "metadata": {},
     "output_type": "display_data"
    },
    {
     "name": "stdout",
     "output_type": "stream",
     "text": [
      "\n",
      "Epoch 00015: val_loss did not improve from 1.55047\n"
     ]
    },
    {
     "data": {
      "application/vnd.jupyter.widget-view+json": {
       "model_id": "",
       "version_major": 2,
       "version_minor": 0
      },
      "text/plain": [
       "HBox(children=(IntProgress(value=0, description='Epoch 15', max=645, style=ProgressStyle(description_width='in…"
      ]
     },
     "metadata": {},
     "output_type": "display_data"
    },
    {
     "name": "stdout",
     "output_type": "stream",
     "text": [
      "\n",
      "Epoch 00016: val_loss did not improve from 1.55047\n"
     ]
    },
    {
     "data": {
      "application/vnd.jupyter.widget-view+json": {
       "model_id": "",
       "version_major": 2,
       "version_minor": 0
      },
      "text/plain": [
       "HBox(children=(IntProgress(value=0, description='Epoch 16', max=645, style=ProgressStyle(description_width='in…"
      ]
     },
     "metadata": {},
     "output_type": "display_data"
    },
    {
     "name": "stdout",
     "output_type": "stream",
     "text": [
      "\n",
      "Epoch 00017: val_loss did not improve from 1.55047\n",
      "Epoch 00017: early stopping\n",
      "X_train_60x60_8.pkl\n",
      "model_60x60_8breeds_0.3dropout_0.0005lr_500fc_20batch\n"
     ]
    },
    {
     "data": {
      "application/vnd.jupyter.widget-view+json": {
       "model_id": "660e1bb01bc44070868f7b036e7c182d",
       "version_major": 2,
       "version_minor": 0
      },
      "text/plain": [
       "HBox(children=(IntProgress(value=0, description='Training', max=50, style=ProgressStyle(description_width='ini…"
      ]
     },
     "metadata": {},
     "output_type": "display_data"
    },
    {
     "data": {
      "application/vnd.jupyter.widget-view+json": {
       "model_id": "",
       "version_major": 2,
       "version_minor": 0
      },
      "text/plain": [
       "HBox(children=(IntProgress(value=0, description='Epoch 0', max=645, style=ProgressStyle(description_width='ini…"
      ]
     },
     "metadata": {},
     "output_type": "display_data"
    },
    {
     "name": "stdout",
     "output_type": "stream",
     "text": [
      "\n",
      "Epoch 00001: val_loss improved from inf to 2.06686, saving model to models/model_60x60_8breeds_0.3dropout_0.0005lr_500fc_20batch.hdf5\n"
     ]
    },
    {
     "data": {
      "application/vnd.jupyter.widget-view+json": {
       "model_id": "",
       "version_major": 2,
       "version_minor": 0
      },
      "text/plain": [
       "HBox(children=(IntProgress(value=0, description='Epoch 1', max=645, style=ProgressStyle(description_width='ini…"
      ]
     },
     "metadata": {},
     "output_type": "display_data"
    },
    {
     "name": "stdout",
     "output_type": "stream",
     "text": [
      "\n",
      "Epoch 00002: val_loss improved from 2.06686 to 1.85965, saving model to models/model_60x60_8breeds_0.3dropout_0.0005lr_500fc_20batch.hdf5\n"
     ]
    },
    {
     "data": {
      "application/vnd.jupyter.widget-view+json": {
       "model_id": "",
       "version_major": 2,
       "version_minor": 0
      },
      "text/plain": [
       "HBox(children=(IntProgress(value=0, description='Epoch 2', max=645, style=ProgressStyle(description_width='ini…"
      ]
     },
     "metadata": {},
     "output_type": "display_data"
    },
    {
     "name": "stdout",
     "output_type": "stream",
     "text": [
      "\n",
      "Epoch 00003: val_loss improved from 1.85965 to 1.71824, saving model to models/model_60x60_8breeds_0.3dropout_0.0005lr_500fc_20batch.hdf5\n"
     ]
    },
    {
     "data": {
      "application/vnd.jupyter.widget-view+json": {
       "model_id": "",
       "version_major": 2,
       "version_minor": 0
      },
      "text/plain": [
       "HBox(children=(IntProgress(value=0, description='Epoch 3', max=645, style=ProgressStyle(description_width='ini…"
      ]
     },
     "metadata": {},
     "output_type": "display_data"
    },
    {
     "name": "stdout",
     "output_type": "stream",
     "text": [
      "\n",
      "Epoch 00004: val_loss improved from 1.71824 to 1.69078, saving model to models/model_60x60_8breeds_0.3dropout_0.0005lr_500fc_20batch.hdf5\n"
     ]
    },
    {
     "data": {
      "application/vnd.jupyter.widget-view+json": {
       "model_id": "",
       "version_major": 2,
       "version_minor": 0
      },
      "text/plain": [
       "HBox(children=(IntProgress(value=0, description='Epoch 4', max=645, style=ProgressStyle(description_width='ini…"
      ]
     },
     "metadata": {},
     "output_type": "display_data"
    },
    {
     "name": "stdout",
     "output_type": "stream",
     "text": [
      "\n",
      "Epoch 00005: val_loss improved from 1.69078 to 1.64973, saving model to models/model_60x60_8breeds_0.3dropout_0.0005lr_500fc_20batch.hdf5\n"
     ]
    },
    {
     "data": {
      "application/vnd.jupyter.widget-view+json": {
       "model_id": "",
       "version_major": 2,
       "version_minor": 0
      },
      "text/plain": [
       "HBox(children=(IntProgress(value=0, description='Epoch 5', max=645, style=ProgressStyle(description_width='ini…"
      ]
     },
     "metadata": {},
     "output_type": "display_data"
    },
    {
     "name": "stdout",
     "output_type": "stream",
     "text": [
      "\n",
      "Epoch 00006: val_loss did not improve from 1.64973\n"
     ]
    },
    {
     "data": {
      "application/vnd.jupyter.widget-view+json": {
       "model_id": "",
       "version_major": 2,
       "version_minor": 0
      },
      "text/plain": [
       "HBox(children=(IntProgress(value=0, description='Epoch 6', max=645, style=ProgressStyle(description_width='ini…"
      ]
     },
     "metadata": {},
     "output_type": "display_data"
    },
    {
     "name": "stdout",
     "output_type": "stream",
     "text": [
      "\n",
      "Epoch 00007: val_loss improved from 1.64973 to 1.64592, saving model to models/model_60x60_8breeds_0.3dropout_0.0005lr_500fc_20batch.hdf5\n"
     ]
    },
    {
     "data": {
      "application/vnd.jupyter.widget-view+json": {
       "model_id": "",
       "version_major": 2,
       "version_minor": 0
      },
      "text/plain": [
       "HBox(children=(IntProgress(value=0, description='Epoch 7', max=645, style=ProgressStyle(description_width='ini…"
      ]
     },
     "metadata": {},
     "output_type": "display_data"
    },
    {
     "name": "stdout",
     "output_type": "stream",
     "text": [
      "\n",
      "Epoch 00008: val_loss improved from 1.64592 to 1.60256, saving model to models/model_60x60_8breeds_0.3dropout_0.0005lr_500fc_20batch.hdf5\n"
     ]
    },
    {
     "data": {
      "application/vnd.jupyter.widget-view+json": {
       "model_id": "",
       "version_major": 2,
       "version_minor": 0
      },
      "text/plain": [
       "HBox(children=(IntProgress(value=0, description='Epoch 8', max=645, style=ProgressStyle(description_width='ini…"
      ]
     },
     "metadata": {},
     "output_type": "display_data"
    },
    {
     "name": "stdout",
     "output_type": "stream",
     "text": [
      "\n",
      "Epoch 00009: val_loss did not improve from 1.60256\n"
     ]
    },
    {
     "data": {
      "application/vnd.jupyter.widget-view+json": {
       "model_id": "",
       "version_major": 2,
       "version_minor": 0
      },
      "text/plain": [
       "HBox(children=(IntProgress(value=0, description='Epoch 9', max=645, style=ProgressStyle(description_width='ini…"
      ]
     },
     "metadata": {},
     "output_type": "display_data"
    },
    {
     "name": "stdout",
     "output_type": "stream",
     "text": [
      "\n",
      "Epoch 00010: val_loss did not improve from 1.60256\n"
     ]
    },
    {
     "data": {
      "application/vnd.jupyter.widget-view+json": {
       "model_id": "",
       "version_major": 2,
       "version_minor": 0
      },
      "text/plain": [
       "HBox(children=(IntProgress(value=0, description='Epoch 10', max=645, style=ProgressStyle(description_width='in…"
      ]
     },
     "metadata": {},
     "output_type": "display_data"
    },
    {
     "name": "stdout",
     "output_type": "stream",
     "text": [
      "\n",
      "Epoch 00011: val_loss did not improve from 1.60256\n"
     ]
    },
    {
     "data": {
      "application/vnd.jupyter.widget-view+json": {
       "model_id": "",
       "version_major": 2,
       "version_minor": 0
      },
      "text/plain": [
       "HBox(children=(IntProgress(value=0, description='Epoch 11', max=645, style=ProgressStyle(description_width='in…"
      ]
     },
     "metadata": {},
     "output_type": "display_data"
    },
    {
     "name": "stdout",
     "output_type": "stream",
     "text": [
      "\n",
      "Epoch 00012: val_loss did not improve from 1.60256\n"
     ]
    },
    {
     "data": {
      "application/vnd.jupyter.widget-view+json": {
       "model_id": "",
       "version_major": 2,
       "version_minor": 0
      },
      "text/plain": [
       "HBox(children=(IntProgress(value=0, description='Epoch 12', max=645, style=ProgressStyle(description_width='in…"
      ]
     },
     "metadata": {},
     "output_type": "display_data"
    },
    {
     "name": "stdout",
     "output_type": "stream",
     "text": [
      "\n",
      "Epoch 00013: val_loss did not improve from 1.60256\n",
      "Epoch 00013: early stopping\n",
      "X_train_60x60_8.pkl\n",
      "model_60x60_8breeds_0.3dropout_0.001lr_500fc_20batch\n"
     ]
    },
    {
     "data": {
      "application/vnd.jupyter.widget-view+json": {
       "model_id": "a27ac026e7e24fb7bbbb486fef7ada82",
       "version_major": 2,
       "version_minor": 0
      },
      "text/plain": [
       "HBox(children=(IntProgress(value=0, description='Training', max=50, style=ProgressStyle(description_width='ini…"
      ]
     },
     "metadata": {},
     "output_type": "display_data"
    },
    {
     "data": {
      "application/vnd.jupyter.widget-view+json": {
       "model_id": "",
       "version_major": 2,
       "version_minor": 0
      },
      "text/plain": [
       "HBox(children=(IntProgress(value=0, description='Epoch 0', max=645, style=ProgressStyle(description_width='ini…"
      ]
     },
     "metadata": {},
     "output_type": "display_data"
    },
    {
     "name": "stdout",
     "output_type": "stream",
     "text": [
      "\n",
      "Epoch 00001: val_loss improved from inf to 2.05467, saving model to models/model_60x60_8breeds_0.3dropout_0.001lr_500fc_20batch.hdf5\n"
     ]
    },
    {
     "data": {
      "application/vnd.jupyter.widget-view+json": {
       "model_id": "",
       "version_major": 2,
       "version_minor": 0
      },
      "text/plain": [
       "HBox(children=(IntProgress(value=0, description='Epoch 1', max=645, style=ProgressStyle(description_width='ini…"
      ]
     },
     "metadata": {},
     "output_type": "display_data"
    },
    {
     "name": "stdout",
     "output_type": "stream",
     "text": [
      "\n",
      "Epoch 00002: val_loss improved from 2.05467 to 1.80612, saving model to models/model_60x60_8breeds_0.3dropout_0.001lr_500fc_20batch.hdf5\n"
     ]
    },
    {
     "data": {
      "application/vnd.jupyter.widget-view+json": {
       "model_id": "",
       "version_major": 2,
       "version_minor": 0
      },
      "text/plain": [
       "HBox(children=(IntProgress(value=0, description='Epoch 2', max=645, style=ProgressStyle(description_width='ini…"
      ]
     },
     "metadata": {},
     "output_type": "display_data"
    },
    {
     "name": "stdout",
     "output_type": "stream",
     "text": [
      "\n",
      "Epoch 00003: val_loss improved from 1.80612 to 1.76536, saving model to models/model_60x60_8breeds_0.3dropout_0.001lr_500fc_20batch.hdf5\n"
     ]
    },
    {
     "data": {
      "application/vnd.jupyter.widget-view+json": {
       "model_id": "",
       "version_major": 2,
       "version_minor": 0
      },
      "text/plain": [
       "HBox(children=(IntProgress(value=0, description='Epoch 3', max=645, style=ProgressStyle(description_width='ini…"
      ]
     },
     "metadata": {},
     "output_type": "display_data"
    },
    {
     "name": "stdout",
     "output_type": "stream",
     "text": [
      "\n",
      "Epoch 00004: val_loss improved from 1.76536 to 1.70065, saving model to models/model_60x60_8breeds_0.3dropout_0.001lr_500fc_20batch.hdf5\n"
     ]
    },
    {
     "data": {
      "application/vnd.jupyter.widget-view+json": {
       "model_id": "",
       "version_major": 2,
       "version_minor": 0
      },
      "text/plain": [
       "HBox(children=(IntProgress(value=0, description='Epoch 4', max=645, style=ProgressStyle(description_width='ini…"
      ]
     },
     "metadata": {},
     "output_type": "display_data"
    },
    {
     "name": "stdout",
     "output_type": "stream",
     "text": [
      "\n",
      "Epoch 00005: val_loss improved from 1.70065 to 1.61040, saving model to models/model_60x60_8breeds_0.3dropout_0.001lr_500fc_20batch.hdf5\n"
     ]
    },
    {
     "data": {
      "application/vnd.jupyter.widget-view+json": {
       "model_id": "",
       "version_major": 2,
       "version_minor": 0
      },
      "text/plain": [
       "HBox(children=(IntProgress(value=0, description='Epoch 5', max=645, style=ProgressStyle(description_width='ini…"
      ]
     },
     "metadata": {},
     "output_type": "display_data"
    },
    {
     "name": "stdout",
     "output_type": "stream",
     "text": [
      "\n",
      "Epoch 00006: val_loss did not improve from 1.61040\n"
     ]
    },
    {
     "data": {
      "application/vnd.jupyter.widget-view+json": {
       "model_id": "",
       "version_major": 2,
       "version_minor": 0
      },
      "text/plain": [
       "HBox(children=(IntProgress(value=0, description='Epoch 6', max=645, style=ProgressStyle(description_width='ini…"
      ]
     },
     "metadata": {},
     "output_type": "display_data"
    },
    {
     "name": "stdout",
     "output_type": "stream",
     "text": [
      "\n",
      "Epoch 00007: val_loss did not improve from 1.61040\n"
     ]
    },
    {
     "data": {
      "application/vnd.jupyter.widget-view+json": {
       "model_id": "",
       "version_major": 2,
       "version_minor": 0
      },
      "text/plain": [
       "HBox(children=(IntProgress(value=0, description='Epoch 7', max=645, style=ProgressStyle(description_width='ini…"
      ]
     },
     "metadata": {},
     "output_type": "display_data"
    },
    {
     "name": "stdout",
     "output_type": "stream",
     "text": [
      "\n",
      "Epoch 00008: val_loss did not improve from 1.61040\n"
     ]
    },
    {
     "data": {
      "application/vnd.jupyter.widget-view+json": {
       "model_id": "",
       "version_major": 2,
       "version_minor": 0
      },
      "text/plain": [
       "HBox(children=(IntProgress(value=0, description='Epoch 8', max=645, style=ProgressStyle(description_width='ini…"
      ]
     },
     "metadata": {},
     "output_type": "display_data"
    },
    {
     "name": "stdout",
     "output_type": "stream",
     "text": [
      "\n",
      "Epoch 00009: val_loss did not improve from 1.61040\n"
     ]
    },
    {
     "data": {
      "application/vnd.jupyter.widget-view+json": {
       "model_id": "",
       "version_major": 2,
       "version_minor": 0
      },
      "text/plain": [
       "HBox(children=(IntProgress(value=0, description='Epoch 9', max=645, style=ProgressStyle(description_width='ini…"
      ]
     },
     "metadata": {},
     "output_type": "display_data"
    },
    {
     "name": "stdout",
     "output_type": "stream",
     "text": [
      "\n",
      "Epoch 00010: val_loss did not improve from 1.61040\n",
      "Epoch 00010: early stopping\n"
     ]
    }
   ],
   "source": [
    "# for learning_rate in learning_rates:\n",
    "#     train_model(image_resize, Nber_of_breeds, dropout, fully_connected_nodes, learning_rate, epochs, batch_size)"
   ]
  },
  {
   "cell_type": "code",
   "execution_count": 154,
   "metadata": {},
   "outputs": [
    {
     "data": {
      "image/png": "[encoded data removed]",
      "text/plain": [
       "<Figure size 432x288 with 1 Axes>"
      ]
     },
     "metadata": {
      "needs_background": "light"
     },
     "output_type": "display_data"
    }
   ],
   "source": [
    "plt.plot(history.history[\"val_accuracy\"], label = \"val_accuracy\")\n",
    "plt.plot(history.history[\"accuracy\"], label = \"accuracy\")\n",
    "plt.legend();"
   ]
  },
  {
   "cell_type": "code",
   "execution_count": 156,
   "metadata": {},
   "outputs": [
    {
     "data": {
      "text/plain": [
       "0.35018050541516244"
      ]
     },
     "execution_count": 156,
     "metadata": {},
     "output_type": "execute_result"
    }
   ],
   "source": [
    "X_test = pickle.load(open(\"pickles/X_test_\" + str(size) + \"x\" + str(size) + \"_\" + str(Nber_of_breeds) + \".pkl\", \"rb\"))\n",
    "y_test = pickle.load(open(\"pickles/y_test_\" + str(size) + \"x\" + str(size) + \"_\" + str(Nber_of_breeds) + \".pkl\", \"rb\"))\n",
    "\n",
    "predictions = model.predict(X_test)\n",
    "\n",
    "    \n",
    "pred_argmax = []\n",
    "for pred in predictions:\n",
    "    pred_argmax.append(pred.argmax())\n",
    "\n",
    "true_argmax = []\n",
    "for pred in y_test:\n",
    "    true_argmax.append(pred.argmax())\n",
    "\n",
    "accuracy_score(pred_argmax, true_argmax)"
   ]
  },
  {
   "cell_type": "code",
   "execution_count": 157,
   "metadata": {},
   "outputs": [
    {
     "name": "stdout",
     "output_type": "stream",
     "text": [
      "Loading model: model_20x20_8breeds_0.3dropout_0.0001lr_500fc_20batch\n",
      "Loading X_test pickle...\n",
      "Loading y_test pickle...\n",
      "Getting predictions...\n",
      "Calculating accuracy...\n",
      "Loading model: model_40x40_8breeds_0.3dropout_0.0001lr_500fc_20batch\n",
      "Loading X_test pickle...\n",
      "Loading y_test pickle...\n",
      "Getting predictions...\n",
      "Calculating accuracy...\n",
      "Loading model: model_60x60_8breeds_0.3dropout_0.0001lr_500fc_20batch\n",
      "Loading X_test pickle...\n",
      "Loading y_test pickle...\n",
      "Getting predictions...\n",
      "Calculating accuracy...\n",
      "Loading model: model_80x80_8breeds_0.3dropout_0.0001lr_500fc_20batch\n",
      "Loading X_test pickle...\n",
      "Loading y_test pickle...\n",
      "Getting predictions...\n",
      "Calculating accuracy...\n"
     ]
    },
    {
     "data": {
      "image/png": "[encoded data removed]",
      "text/plain": [
       "<Figure size 432x288 with 1 Axes>"
      ]
     },
     "metadata": {
      "needs_background": "light"
     },
     "output_type": "display_data"
    }
   ],
   "source": [
    "# Data params\n",
    "image_resizes = [20, 40, 60, 80]\n",
    "Nber_of_breeds = 8\n",
    "\n",
    "# Model params\n",
    "dropout = 0.3\n",
    "fully_connected_nodes = 500\n",
    "learning_rate=0.0001\n",
    "\n",
    "# Training params\n",
    "batch_size = 20\n",
    "\n",
    "models = []\n",
    "for size in image_resizes:\n",
    "    model_name = \"model_\" + str(size) + \"x\" + str(size) + \"_\" + str(Nber_of_breeds) + \"breeds_\" + str(dropout) + \"dropout_\" + str(learning_rate) + \"lr_\" + str(fully_connected_nodes) + \"fc_\" + str(batch_size) + \"batch\"\n",
    "\n",
    "    models.append(model_name)\n",
    "\n",
    "accuracies = []\n",
    "for size, model_name in zip(image_resizes, models):\n",
    "    print(\"Loading model:\", model_name)\n",
    "    model = load_model('models/' + model_name + '.hdf5')\n",
    "    \n",
    "    print(\"Loading X_test pickle...\")\n",
    "    X_test = pickle.load(open(\"pickles/X_test_\" + str(size) + \"x\" + str(size) + \"_\" + str(Nber_of_breeds) + \".pkl\", \"rb\"))\n",
    "    \n",
    "    print(\"Loading y_test pickle...\")\n",
    "    y_test = pickle.load(open(\"pickles/y_test_\" + str(size) + \"x\" + str(size) + \"_\" + str(Nber_of_breeds) + \".pkl\", \"rb\"))\n",
    "    \n",
    "    print(\"Getting predictions...\")\n",
    "    predictions = model.predict(X_test)\n",
    "\n",
    "    \n",
    "    pred_argmax = []\n",
    "    for pred in predictions:\n",
    "        pred_argmax.append(pred.argmax())\n",
    "\n",
    "    true_argmax = []\n",
    "    for pred in y_test:\n",
    "        true_argmax.append(pred.argmax())\n",
    "\n",
    "    print(\"Calculating accuracy...\")\n",
    "    accuracies.append(accuracy_score(pred_argmax, true_argmax))\n",
    "    \n",
    "plt.scatter(image_resizes, accuracies);\n",
    "plt.xlabel(\"Image Size in Pixels\");\n",
    "plt.ylabel(\"Accuracy in %\");\n",
    "plt.title(f\"Image Size vs Accuracy - {Nber_of_breeds} Classes\");"
   ]
  },
  {
   "cell_type": "code",
   "execution_count": 140,
   "metadata": {},
   "outputs": [
    {
     "name": "stdout",
     "output_type": "stream",
     "text": [
      "Loading model: model_60x60_4breeds_0.3dropout_0.0001lr_500fc_20batch\n",
      "Loading X_test pickle...\n",
      "Loading y_test pickle...\n",
      "Getting predictions...\n",
      "Calculating accuracy...\n",
      "Loading model: model_60x60_8breeds_0.3dropout_0.0001lr_500fc_20batch\n",
      "Loading X_test pickle...\n",
      "Loading y_test pickle...\n",
      "Getting predictions...\n",
      "Calculating accuracy...\n",
      "Loading model: model_60x60_16breeds_0.3dropout_0.0001lr_500fc_20batch\n",
      "Loading X_test pickle...\n",
      "Loading y_test pickle...\n",
      "Getting predictions...\n",
      "Calculating accuracy...\n",
      "Loading model: model_60x60_32breeds_0.3dropout_0.0001lr_500fc_20batch\n",
      "Loading X_test pickle...\n",
      "Loading y_test pickle...\n",
      "Getting predictions...\n",
      "Calculating accuracy...\n",
      "Loading model: model_60x60_64breeds_0.3dropout_0.0001lr_500fc_20batch\n",
      "Loading X_test pickle...\n",
      "Loading y_test pickle...\n",
      "Getting predictions...\n",
      "Calculating accuracy...\n"
     ]
    },
    {
     "data": {
      "image/png": "[encoded data removed]",
      "text/plain": [
       "<Figure size 432x288 with 1 Axes>"
      ]
     },
     "metadata": {
      "needs_background": "light"
     },
     "output_type": "display_data"
    }
   ],
   "source": [
    "# Data params\n",
    "size = 60\n",
    "num_breeds = [4, 8, 16, 32, 64]\n",
    "\n",
    "# Model params\n",
    "dropout = 0.3\n",
    "fully_connected_nodes = 500\n",
    "learning_rate=0.0001\n",
    "\n",
    "# Training params\n",
    "batch_size = 20\n",
    "\n",
    "models = []\n",
    "for breed in num_breeds:\n",
    "    model_name = \"model_\" + str(size) + \"x\" + str(size) + \"_\" + str(breed) + \"breeds_\" + str(dropout) + \"dropout_\" + str(learning_rate) + \"lr_\" + str(fully_connected_nodes) + \"fc_\" + str(batch_size) + \"batch\"\n",
    "\n",
    "    models.append(model_name)\n",
    "\n",
    "accuracies = []\n",
    "for breed, model_name in zip(num_breeds, models):\n",
    "    print(\"Loading model:\", model_name)\n",
    "    model = load_model('models/' + model_name + '.hdf5')\n",
    "    \n",
    "    print(\"Loading X_test pickle...\")\n",
    "    X_test = pickle.load(open(\"pickles/X_test_\" + str(size) + \"x\" + str(size) + \"_\" + str(breed) + \".pkl\", \"rb\"))\n",
    "    \n",
    "    print(\"Loading y_test pickle...\")\n",
    "    y_test = pickle.load(open(\"pickles/y_test_\" + str(size) + \"x\" + str(size) + \"_\" + str(breed) + \".pkl\", \"rb\"))\n",
    "    \n",
    "    print(\"Getting predictions...\")\n",
    "    predictions = model.predict(X_test)\n",
    "\n",
    "    \n",
    "    pred_argmax = []\n",
    "    for pred in predictions:\n",
    "        pred_argmax.append(pred.argmax())\n",
    "\n",
    "    true_argmax = []\n",
    "    for pred in y_test:\n",
    "        true_argmax.append(pred.argmax())\n",
    "\n",
    "    print(\"Calculating accuracy...\")\n",
    "    accuracies.append(accuracy_score(pred_argmax, true_argmax))\n",
    "    \n",
    "plt.scatter(num_breeds, accuracies);\n",
    "plt.xlabel(\"Number of Breeds\");\n",
    "plt.ylabel(\"Accuracy in %\");\n",
    "plt.title(f\"Number of Breeds vs Accuracy - {size}x{size} Images\");"
   ]
  },
  {
   "cell_type": "code",
   "execution_count": 158,
   "metadata": {},
   "outputs": [
    {
     "name": "stdout",
     "output_type": "stream",
     "text": [
      "Loading model: model_60x60_8breeds_0.3dropout_0.0001lr_500fc_20batch\n",
      "Loading X_test pickle...\n",
      "Loading y_test pickle...\n",
      "Getting predictions...\n",
      "Calculating accuracy...\n",
      "Loading model: model_60x60_8breeds_0.3dropout_0.0005lr_500fc_20batch\n",
      "Loading X_test pickle...\n",
      "Loading y_test pickle...\n",
      "Getting predictions...\n",
      "Calculating accuracy...\n",
      "Loading model: model_60x60_8breeds_0.3dropout_0.001lr_500fc_20batch\n",
      "Loading X_test pickle...\n",
      "Loading y_test pickle...\n",
      "Getting predictions...\n",
      "Calculating accuracy...\n"
     ]
    },
    {
     "data": {
      "image/png": "[encoded data removed]",
      "text/plain": [
       "<Figure size 432x288 with 1 Axes>"
      ]
     },
     "metadata": {
      "needs_background": "light"
     },
     "output_type": "display_data"
    }
   ],
   "source": [
    "# Data params\n",
    "size = 60\n",
    "breed = 8\n",
    "\n",
    "# Model params\n",
    "dropout = 0.3\n",
    "fully_connected_nodes = 500\n",
    "learning_rates= [0.0001, 0.0005, 0.001]\n",
    "\n",
    "# Training params\n",
    "batch_size = 20\n",
    "\n",
    "models = []\n",
    "for learning_rate in learning_rates:\n",
    "    model_name = \"model_\" + str(size) + \"x\" + str(size) + \"_\" + str(breed) + \"breeds_\" + str(dropout) + \"dropout_\" + str(learning_rate) + \"lr_\" + str(fully_connected_nodes) + \"fc_\" + str(batch_size) + \"batch\"\n",
    "\n",
    "    models.append(model_name)\n",
    "\n",
    "accuracies = []\n",
    "for breed, model_name in zip(num_breeds, models):\n",
    "    print(\"Loading model:\", model_name)\n",
    "    model = load_model('models/' + model_name + '.hdf5')\n",
    "    \n",
    "    print(\"Loading X_test pickle...\")\n",
    "    X_test = pickle.load(open(\"pickles/X_test_\" + str(size) + \"x\" + str(size) + \"_\" + str(breed) + \".pkl\", \"rb\"))\n",
    "    \n",
    "    print(\"Loading y_test pickle...\")\n",
    "    y_test = pickle.load(open(\"pickles/y_test_\" + str(size) + \"x\" + str(size) + \"_\" + str(breed) + \".pkl\", \"rb\"))\n",
    "    \n",
    "    print(\"Getting predictions...\")\n",
    "    predictions = model.predict(X_test)\n",
    "\n",
    "    \n",
    "    pred_argmax = []\n",
    "    for pred in predictions:\n",
    "        pred_argmax.append(pred.argmax())\n",
    "\n",
    "    true_argmax = []\n",
    "    for pred in y_test:\n",
    "        true_argmax.append(pred.argmax())\n",
    "\n",
    "    print(\"Calculating accuracy...\")\n",
    "    accuracies.append(accuracy_score(pred_argmax, true_argmax))\n",
    "    \n",
    "plt.scatter(learning_rates, accuracies);\n",
    "plt.xlabel(\"Learning Rate\");\n",
    "plt.ylabel(\"Accuracy in %\");\n",
    "plt.title(f\"Learning Rate vs Accuracy - {size}x{size} Images\");"
   ]
  },
  {
   "cell_type": "code",
   "execution_count": 150,
   "metadata": {},
   "outputs": [
    {
     "data": {
      "text/plain": [
       "[0.16083916083916083, 0.4007220216606498, 0.08239700374531835]"
      ]
     },
     "execution_count": 150,
     "metadata": {},
     "output_type": "execute_result"
    }
   ],
   "source": [
    "accuracies"
   ]
  },
  {
   "cell_type": "code",
   "execution_count": null,
   "metadata": {},
   "outputs": [],
   "source": []
  }
 ],
 "metadata": {
  "kernelspec": {
   "display_name": "cogs118b",
   "language": "python",
   "name": "cogs118b"
  },
  "language_info": {
   "codemirror_mode": {
    "name": "ipython",
    "version": 3
   },
   "file_extension": ".py",
   "mimetype": "text/x-python",
   "name": "python",
   "nbconvert_exporter": "python",
   "pygments_lexer": "ipython3",
   "version": "3.7.3"
  }
 },
 "nbformat": 4,
 "nbformat_minor": 4
}
